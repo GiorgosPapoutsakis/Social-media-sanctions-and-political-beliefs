{
 "cells": [
  {
   "cell_type": "markdown",
   "id": "62e68993-e221-4153-81b5-aad8255e375d",
   "metadata": {},
   "source": [
    "# Assignment 2\n",
    "* This assignment focuses on analyzing social media sanctions and their potential relationship to political beliefs.  \n",
    "\n",
    "> Giorgos Papoutsakis 8200137"
   ]
  },
  {
   "cell_type": "code",
   "execution_count": 1,
   "id": "8a09abc4-d3e1-4272-91b4-92c1f0ef9757",
   "metadata": {},
   "outputs": [],
   "source": [
    "import pandas as pd\n",
    "import numpy as np\n",
    "\n",
    "import matplotlib.pyplot as plt\n",
    "import seaborn as sns"
   ]
  },
  {
   "cell_type": "markdown",
   "id": "8f238511-4ca3-4331-ba70-1d3e57480e57",
   "metadata": {},
   "source": [
    "* First, we need to read the data and take a look at the dataframe."
   ]
  },
  {
   "cell_type": "code",
   "execution_count": 2,
   "id": "1760cffc-5ac7-484c-ac45-4385239179b1",
   "metadata": {},
   "outputs": [
    {
     "data": {
      "text/html": [
       "<div>\n",
       "<style scoped>\n",
       "    .dataframe tbody tr th:only-of-type {\n",
       "        vertical-align: middle;\n",
       "    }\n",
       "\n",
       "    .dataframe tbody tr th {\n",
       "        vertical-align: top;\n",
       "    }\n",
       "\n",
       "    .dataframe thead th {\n",
       "        text-align: right;\n",
       "    }\n",
       "</style>\n",
       "<table border=\"1\" class=\"dataframe\">\n",
       "  <thead>\n",
       "    <tr style=\"text-align: right;\">\n",
       "      <th></th>\n",
       "      <th>politics_sites2</th>\n",
       "      <th>politics_sites1</th>\n",
       "      <th>politics_followed</th>\n",
       "      <th>lowqual_pr2019_crowd</th>\n",
       "      <th>lowqual_pr2019_fc</th>\n",
       "      <th>lowqual_afm</th>\n",
       "      <th>lowqual_mbfc</th>\n",
       "      <th>lowqual_lasser2019</th>\n",
       "      <th>suspended</th>\n",
       "      <th>politics_hashtag</th>\n",
       "      <th>...</th>\n",
       "      <th>valence_neg</th>\n",
       "      <th>valence_neu</th>\n",
       "      <th>valence_pos</th>\n",
       "      <th>politics_sites2_ideo_std</th>\n",
       "      <th>hashtag_ideo_std</th>\n",
       "      <th>barbera_std</th>\n",
       "      <th>politics_sites1_std</th>\n",
       "      <th>repeated_tweet_count</th>\n",
       "      <th>freq_pr_1h</th>\n",
       "      <th>bad_domain_count</th>\n",
       "    </tr>\n",
       "  </thead>\n",
       "  <tbody>\n",
       "    <tr>\n",
       "      <th>0</th>\n",
       "      <td>-0.231902</td>\n",
       "      <td>-1.168745</td>\n",
       "      <td>-0.080295</td>\n",
       "      <td>0.598883</td>\n",
       "      <td>0.279221</td>\n",
       "      <td>0.185315</td>\n",
       "      <td>0.292807</td>\n",
       "      <td>0.350000</td>\n",
       "      <td>0</td>\n",
       "      <td>0</td>\n",
       "      <td>...</td>\n",
       "      <td>0.109935</td>\n",
       "      <td>0.813230</td>\n",
       "      <td>0.076835</td>\n",
       "      <td>0.274317</td>\n",
       "      <td>0.00000</td>\n",
       "      <td>0.909460</td>\n",
       "      <td>69</td>\n",
       "      <td>86.0</td>\n",
       "      <td>30</td>\n",
       "      <td>7</td>\n",
       "    </tr>\n",
       "    <tr>\n",
       "      <th>1</th>\n",
       "      <td>0.405261</td>\n",
       "      <td>1.060905</td>\n",
       "      <td>2.296375</td>\n",
       "      <td>0.774873</td>\n",
       "      <td>0.848639</td>\n",
       "      <td>0.614156</td>\n",
       "      <td>0.513147</td>\n",
       "      <td>0.975087</td>\n",
       "      <td>0</td>\n",
       "      <td>1</td>\n",
       "      <td>...</td>\n",
       "      <td>0.115985</td>\n",
       "      <td>0.793715</td>\n",
       "      <td>0.090250</td>\n",
       "      <td>0.351800</td>\n",
       "      <td>0.00000</td>\n",
       "      <td>0.157056</td>\n",
       "      <td>623</td>\n",
       "      <td>133.0</td>\n",
       "      <td>26</td>\n",
       "      <td>20</td>\n",
       "    </tr>\n",
       "    <tr>\n",
       "      <th>2</th>\n",
       "      <td>-0.171067</td>\n",
       "      <td>-0.500076</td>\n",
       "      <td>-2.312730</td>\n",
       "      <td>0.548727</td>\n",
       "      <td>0.242347</td>\n",
       "      <td>0.130950</td>\n",
       "      <td>0.242445</td>\n",
       "      <td>0.300000</td>\n",
       "      <td>0</td>\n",
       "      <td>0</td>\n",
       "      <td>...</td>\n",
       "      <td>0.085765</td>\n",
       "      <td>0.817340</td>\n",
       "      <td>0.096915</td>\n",
       "      <td>0.279591</td>\n",
       "      <td>0.00000</td>\n",
       "      <td>0.445349</td>\n",
       "      <td>32</td>\n",
       "      <td>3.0</td>\n",
       "      <td>3</td>\n",
       "      <td>6</td>\n",
       "    </tr>\n",
       "    <tr>\n",
       "      <th>3</th>\n",
       "      <td>-0.085814</td>\n",
       "      <td>-0.748035</td>\n",
       "      <td>-1.507481</td>\n",
       "      <td>0.611501</td>\n",
       "      <td>0.360119</td>\n",
       "      <td>0.180055</td>\n",
       "      <td>0.277793</td>\n",
       "      <td>0.316038</td>\n",
       "      <td>0</td>\n",
       "      <td>0</td>\n",
       "      <td>...</td>\n",
       "      <td>0.108680</td>\n",
       "      <td>0.781135</td>\n",
       "      <td>0.110190</td>\n",
       "      <td>0.290277</td>\n",
       "      <td>0.00000</td>\n",
       "      <td>0.256665</td>\n",
       "      <td>55</td>\n",
       "      <td>104.0</td>\n",
       "      <td>29</td>\n",
       "      <td>22</td>\n",
       "    </tr>\n",
       "    <tr>\n",
       "      <th>4</th>\n",
       "      <td>0.595367</td>\n",
       "      <td>1.347730</td>\n",
       "      <td>2.010573</td>\n",
       "      <td>0.700217</td>\n",
       "      <td>0.698661</td>\n",
       "      <td>0.430655</td>\n",
       "      <td>0.554609</td>\n",
       "      <td>0.763889</td>\n",
       "      <td>0</td>\n",
       "      <td>1</td>\n",
       "      <td>...</td>\n",
       "      <td>0.065145</td>\n",
       "      <td>0.860550</td>\n",
       "      <td>0.074320</td>\n",
       "      <td>0.300823</td>\n",
       "      <td>0.00000</td>\n",
       "      <td>0.431149</td>\n",
       "      <td>37</td>\n",
       "      <td>36.0</td>\n",
       "      <td>8</td>\n",
       "      <td>8</td>\n",
       "    </tr>\n",
       "    <tr>\n",
       "      <th>...</th>\n",
       "      <td>...</td>\n",
       "      <td>...</td>\n",
       "      <td>...</td>\n",
       "      <td>...</td>\n",
       "      <td>...</td>\n",
       "      <td>...</td>\n",
       "      <td>...</td>\n",
       "      <td>...</td>\n",
       "      <td>...</td>\n",
       "      <td>...</td>\n",
       "      <td>...</td>\n",
       "      <td>...</td>\n",
       "      <td>...</td>\n",
       "      <td>...</td>\n",
       "      <td>...</td>\n",
       "      <td>...</td>\n",
       "      <td>...</td>\n",
       "      <td>...</td>\n",
       "      <td>...</td>\n",
       "      <td>...</td>\n",
       "      <td>...</td>\n",
       "    </tr>\n",
       "    <tr>\n",
       "      <th>8995</th>\n",
       "      <td>-0.115066</td>\n",
       "      <td>-0.604443</td>\n",
       "      <td>NaN</td>\n",
       "      <td>0.559728</td>\n",
       "      <td>0.257015</td>\n",
       "      <td>0.167228</td>\n",
       "      <td>0.473955</td>\n",
       "      <td>0.336758</td>\n",
       "      <td>1</td>\n",
       "      <td>0</td>\n",
       "      <td>...</td>\n",
       "      <td>0.087090</td>\n",
       "      <td>0.863170</td>\n",
       "      <td>0.049770</td>\n",
       "      <td>0.206279</td>\n",
       "      <td>0.00000</td>\n",
       "      <td>NaN</td>\n",
       "      <td>134</td>\n",
       "      <td>724.0</td>\n",
       "      <td>22</td>\n",
       "      <td>3</td>\n",
       "    </tr>\n",
       "    <tr>\n",
       "      <th>8996</th>\n",
       "      <td>0.499673</td>\n",
       "      <td>1.019845</td>\n",
       "      <td>1.689321</td>\n",
       "      <td>0.703698</td>\n",
       "      <td>0.720918</td>\n",
       "      <td>0.399594</td>\n",
       "      <td>0.568832</td>\n",
       "      <td>0.772321</td>\n",
       "      <td>1</td>\n",
       "      <td>1</td>\n",
       "      <td>...</td>\n",
       "      <td>0.067430</td>\n",
       "      <td>0.843105</td>\n",
       "      <td>0.089495</td>\n",
       "      <td>0.300414</td>\n",
       "      <td>0.00000</td>\n",
       "      <td>0.890596</td>\n",
       "      <td>66</td>\n",
       "      <td>71.0</td>\n",
       "      <td>27</td>\n",
       "      <td>14</td>\n",
       "    </tr>\n",
       "    <tr>\n",
       "      <th>8997</th>\n",
       "      <td>-0.214569</td>\n",
       "      <td>-0.925605</td>\n",
       "      <td>NaN</td>\n",
       "      <td>0.627648</td>\n",
       "      <td>0.400227</td>\n",
       "      <td>0.217915</td>\n",
       "      <td>0.303897</td>\n",
       "      <td>0.355212</td>\n",
       "      <td>1</td>\n",
       "      <td>0</td>\n",
       "      <td>...</td>\n",
       "      <td>0.083680</td>\n",
       "      <td>0.849685</td>\n",
       "      <td>0.066635</td>\n",
       "      <td>0.283650</td>\n",
       "      <td>0.57735</td>\n",
       "      <td>NaN</td>\n",
       "      <td>240</td>\n",
       "      <td>99.0</td>\n",
       "      <td>22</td>\n",
       "      <td>46</td>\n",
       "    </tr>\n",
       "    <tr>\n",
       "      <th>8998</th>\n",
       "      <td>0.424927</td>\n",
       "      <td>0.925060</td>\n",
       "      <td>1.525494</td>\n",
       "      <td>0.764551</td>\n",
       "      <td>0.808780</td>\n",
       "      <td>0.388632</td>\n",
       "      <td>0.462972</td>\n",
       "      <td>0.863636</td>\n",
       "      <td>1</td>\n",
       "      <td>1</td>\n",
       "      <td>...</td>\n",
       "      <td>0.112050</td>\n",
       "      <td>0.808630</td>\n",
       "      <td>0.079320</td>\n",
       "      <td>0.332652</td>\n",
       "      <td>0.00000</td>\n",
       "      <td>0.900122</td>\n",
       "      <td>32</td>\n",
       "      <td>210.0</td>\n",
       "      <td>15</td>\n",
       "      <td>22</td>\n",
       "    </tr>\n",
       "    <tr>\n",
       "      <th>8999</th>\n",
       "      <td>-0.168682</td>\n",
       "      <td>-0.773516</td>\n",
       "      <td>-1.411865</td>\n",
       "      <td>0.581819</td>\n",
       "      <td>0.252232</td>\n",
       "      <td>0.185156</td>\n",
       "      <td>0.284862</td>\n",
       "      <td>0.318627</td>\n",
       "      <td>1</td>\n",
       "      <td>0</td>\n",
       "      <td>...</td>\n",
       "      <td>0.066825</td>\n",
       "      <td>0.841865</td>\n",
       "      <td>0.091295</td>\n",
       "      <td>0.271987</td>\n",
       "      <td>0.00000</td>\n",
       "      <td>0.424989</td>\n",
       "      <td>37</td>\n",
       "      <td>745.0</td>\n",
       "      <td>44</td>\n",
       "      <td>3</td>\n",
       "    </tr>\n",
       "  </tbody>\n",
       "</table>\n",
       "<p>9000 rows × 42 columns</p>\n",
       "</div>"
      ],
      "text/plain": [
       "      politics_sites2  politics_sites1  politics_followed  \\\n",
       "0           -0.231902        -1.168745          -0.080295   \n",
       "1            0.405261         1.060905           2.296375   \n",
       "2           -0.171067        -0.500076          -2.312730   \n",
       "3           -0.085814        -0.748035          -1.507481   \n",
       "4            0.595367         1.347730           2.010573   \n",
       "...               ...              ...                ...   \n",
       "8995        -0.115066        -0.604443                NaN   \n",
       "8996         0.499673         1.019845           1.689321   \n",
       "8997        -0.214569        -0.925605                NaN   \n",
       "8998         0.424927         0.925060           1.525494   \n",
       "8999        -0.168682        -0.773516          -1.411865   \n",
       "\n",
       "      lowqual_pr2019_crowd  lowqual_pr2019_fc  lowqual_afm  lowqual_mbfc  \\\n",
       "0                 0.598883           0.279221     0.185315      0.292807   \n",
       "1                 0.774873           0.848639     0.614156      0.513147   \n",
       "2                 0.548727           0.242347     0.130950      0.242445   \n",
       "3                 0.611501           0.360119     0.180055      0.277793   \n",
       "4                 0.700217           0.698661     0.430655      0.554609   \n",
       "...                    ...                ...          ...           ...   \n",
       "8995              0.559728           0.257015     0.167228      0.473955   \n",
       "8996              0.703698           0.720918     0.399594      0.568832   \n",
       "8997              0.627648           0.400227     0.217915      0.303897   \n",
       "8998              0.764551           0.808780     0.388632      0.462972   \n",
       "8999              0.581819           0.252232     0.185156      0.284862   \n",
       "\n",
       "      lowqual_lasser2019  suspended  politics_hashtag  ...  valence_neg  \\\n",
       "0               0.350000          0                 0  ...     0.109935   \n",
       "1               0.975087          0                 1  ...     0.115985   \n",
       "2               0.300000          0                 0  ...     0.085765   \n",
       "3               0.316038          0                 0  ...     0.108680   \n",
       "4               0.763889          0                 1  ...     0.065145   \n",
       "...                  ...        ...               ...  ...          ...   \n",
       "8995            0.336758          1                 0  ...     0.087090   \n",
       "8996            0.772321          1                 1  ...     0.067430   \n",
       "8997            0.355212          1                 0  ...     0.083680   \n",
       "8998            0.863636          1                 1  ...     0.112050   \n",
       "8999            0.318627          1                 0  ...     0.066825   \n",
       "\n",
       "      valence_neu  valence_pos  politics_sites2_ideo_std  hashtag_ideo_std  \\\n",
       "0        0.813230     0.076835                  0.274317           0.00000   \n",
       "1        0.793715     0.090250                  0.351800           0.00000   \n",
       "2        0.817340     0.096915                  0.279591           0.00000   \n",
       "3        0.781135     0.110190                  0.290277           0.00000   \n",
       "4        0.860550     0.074320                  0.300823           0.00000   \n",
       "...           ...          ...                       ...               ...   \n",
       "8995     0.863170     0.049770                  0.206279           0.00000   \n",
       "8996     0.843105     0.089495                  0.300414           0.00000   \n",
       "8997     0.849685     0.066635                  0.283650           0.57735   \n",
       "8998     0.808630     0.079320                  0.332652           0.00000   \n",
       "8999     0.841865     0.091295                  0.271987           0.00000   \n",
       "\n",
       "      barbera_std  politics_sites1_std  repeated_tweet_count  freq_pr_1h  \\\n",
       "0        0.909460                   69                  86.0          30   \n",
       "1        0.157056                  623                 133.0          26   \n",
       "2        0.445349                   32                   3.0           3   \n",
       "3        0.256665                   55                 104.0          29   \n",
       "4        0.431149                   37                  36.0           8   \n",
       "...           ...                  ...                   ...         ...   \n",
       "8995          NaN                  134                 724.0          22   \n",
       "8996     0.890596                   66                  71.0          27   \n",
       "8997          NaN                  240                  99.0          22   \n",
       "8998     0.900122                   32                 210.0          15   \n",
       "8999     0.424989                   37                 745.0          44   \n",
       "\n",
       "      bad_domain_count  \n",
       "0                    7  \n",
       "1                   20  \n",
       "2                    6  \n",
       "3                   22  \n",
       "4                    8  \n",
       "...                ...  \n",
       "8995                 3  \n",
       "8996                14  \n",
       "8997                46  \n",
       "8998                22  \n",
       "8999                 3  \n",
       "\n",
       "[9000 rows x 42 columns]"
      ]
     },
     "execution_count": 2,
     "metadata": {},
     "output_type": "execute_result"
    }
   ],
   "source": [
    "df = pd.read_csv(\"data/mosleh_et_al_data.csv\")\n",
    "df"
   ]
  },
  {
   "cell_type": "markdown",
   "id": "cbcd6c73-8be8-489b-9aa9-4598eaeb34ee",
   "metadata": {},
   "source": [
    "# Twitter Suspensions after the 2020 Election"
   ]
  },
  {
   "cell_type": "markdown",
   "id": "2b022d16-ca2d-40d8-a74a-0def90f9fc2d",
   "metadata": {},
   "source": [
    "* It is important to understand which code corresponds to each political category in the column `politics_hashtag`:\n",
    "- 0: Biden supporters - Liberals\n",
    "- 1: Trump supporters - Conservatives"
   ]
  },
  {
   "cell_type": "code",
   "execution_count": 3,
   "id": "10cd24ea-f67c-4856-8db6-28a81afec281",
   "metadata": {},
   "outputs": [
    {
     "data": {
      "text/plain": [
       "politics_hashtag\n",
       "1    4505\n",
       "0    4495\n",
       "Name: count, dtype: int64"
      ]
     },
     "execution_count": 3,
     "metadata": {},
     "output_type": "execute_result"
    }
   ],
   "source": [
    "df[\"politics_hashtag\"].value_counts()"
   ]
  },
  {
   "cell_type": "markdown",
   "id": "1a5f9d8e-4593-4cc8-8168-0022df8f9181",
   "metadata": {},
   "source": [
    "* Before the crosstabulation, we check for NaN values."
   ]
  },
  {
   "cell_type": "code",
   "execution_count": 4,
   "id": "14bb0c15-e5a0-4582-b1f2-49eae54536a7",
   "metadata": {},
   "outputs": [
    {
     "name": "stdout",
     "output_type": "stream",
     "text": [
      "0\n",
      "0\n"
     ]
    }
   ],
   "source": [
    "print(df['politics_hashtag'].isna().sum())\n",
    "print(df['suspended'].isna().sum())"
   ]
  },
  {
   "cell_type": "markdown",
   "id": "fc0d1c27-cf3c-4876-87cb-cf71cd6b12c9",
   "metadata": {},
   "source": [
    "* Then we will create the contingency table."
   ]
  },
  {
   "cell_type": "code",
   "execution_count": 5,
   "id": "96291861-c77d-42ac-bb7f-a7c66001522f",
   "metadata": {},
   "outputs": [
    {
     "data": {
      "text/html": [
       "<div>\n",
       "<style scoped>\n",
       "    .dataframe tbody tr th:only-of-type {\n",
       "        vertical-align: middle;\n",
       "    }\n",
       "\n",
       "    .dataframe tbody tr th {\n",
       "        vertical-align: top;\n",
       "    }\n",
       "\n",
       "    .dataframe thead th {\n",
       "        text-align: right;\n",
       "    }\n",
       "</style>\n",
       "<table border=\"1\" class=\"dataframe\">\n",
       "  <thead>\n",
       "    <tr style=\"text-align: right;\">\n",
       "      <th>suspended</th>\n",
       "      <th>0</th>\n",
       "      <th>1</th>\n",
       "    </tr>\n",
       "    <tr>\n",
       "      <th>politics_hashtag</th>\n",
       "      <th></th>\n",
       "      <th></th>\n",
       "    </tr>\n",
       "  </thead>\n",
       "  <tbody>\n",
       "    <tr>\n",
       "      <th>0</th>\n",
       "      <td>4295</td>\n",
       "      <td>200</td>\n",
       "    </tr>\n",
       "    <tr>\n",
       "      <th>1</th>\n",
       "      <td>3623</td>\n",
       "      <td>882</td>\n",
       "    </tr>\n",
       "  </tbody>\n",
       "</table>\n",
       "</div>"
      ],
      "text/plain": [
       "suspended            0    1\n",
       "politics_hashtag           \n",
       "0                 4295  200\n",
       "1                 3623  882"
      ]
     },
     "execution_count": 5,
     "metadata": {},
     "output_type": "execute_result"
    }
   ],
   "source": [
    "crosstab = pd.crosstab(df['politics_hashtag'], df['suspended'])\n",
    "crosstab"
   ]
  },
  {
   "cell_type": "markdown",
   "id": "447401e3-5610-41a4-b148-b0a401528b99",
   "metadata": {},
   "source": [
    "* Indeed as expected from the instructions, suspended Trump supporters are 4.4 times more than suspended Biden supporters."
   ]
  },
  {
   "cell_type": "markdown",
   "id": "fe1a29af-281b-487b-bc2f-f7ff66782934",
   "metadata": {},
   "source": [
    "* Now, we aim to examine whether the above results are independent of each other or if there is a significant relationship between politic orientation and suspention.  \n",
    "* To achieve this, we will perform a Χ² test.  \n",
    "* The hypotheses are as follows:  \n",
    "  * **H₀**: `politics_hashtag` and `suspended` are independent of each other.  \n",
    "  * **H₁**: `politics_hashtag` and `suspended` are dependent."
   ]
  },
  {
   "cell_type": "code",
   "execution_count": 6,
   "id": "9a087428-ea8e-4c89-a6de-4d314611f083",
   "metadata": {},
   "outputs": [],
   "source": [
    "from scipy.stats import chi2_contingency\n",
    "\n",
    "chi2, p, _, _ = chi2_contingency(crosstab)"
   ]
  },
  {
   "cell_type": "code",
   "execution_count": 7,
   "id": "c9d9627e-d6d5-4a52-874f-8082674625b4",
   "metadata": {},
   "outputs": [
    {
     "name": "stdout",
     "output_type": "stream",
     "text": [
      "Chi-squared: 485.467\n",
      "P-value: 0.000\n"
     ]
    }
   ],
   "source": [
    "print(f\"Chi-squared: {chi2:.3f}\")\n",
    "print(f\"P-value: {p:.3f}\")"
   ]
  },
  {
   "cell_type": "markdown",
   "id": "5e126b54-409a-46ba-93b3-2bea8e6e85d5",
   "metadata": {},
   "source": [
    "* For significance threshold, we will use a=0.05\n",
    "* Since the p-value is 0, which is lower than the significance threshold, the relationship is statistically significant.\n",
    "* So, we reject the H₀ and accept hypothesis H₁.\n",
    "* This means that the two variables (`politics_hashtag` and `suspended`) are not independent but instead depend on each other.\n",
    "* In simple terms, there is a relationship between being a Trump supporter and getting suspended."
   ]
  },
  {
   "cell_type": "markdown",
   "id": "ef3f288b-85aa-4832-b56b-593fe3b4ff8e",
   "metadata": {},
   "source": [
    "# Distributions of Relative Frequency of Low Quality"
   ]
  },
  {
   "cell_type": "markdown",
   "id": "2a990453-e840-4d11-af02-cfadde9be909",
   "metadata": {},
   "source": [
    "* For the standardization with z-scores of the x-axis, we will use the StandardScaler, as it removes the mean and divides by the standard deviation."
   ]
  },
  {
   "cell_type": "code",
   "execution_count": 8,
   "id": "fc26df3b-5241-4cd7-a6e2-f38a7a472083",
   "metadata": {},
   "outputs": [],
   "source": [
    "from sklearn.preprocessing import StandardScaler\n",
    "\n",
    "scaler = StandardScaler()"
   ]
  },
  {
   "cell_type": "code",
   "execution_count": 9,
   "id": "3ec9a784-2571-4857-89da-f2fe50abca58",
   "metadata": {},
   "outputs": [],
   "source": [
    "df['lowqual_pr2019_fc_zscaled'] = scaler.fit_transform(df[['lowqual_pr2019_fc']])\n",
    "df['lowqual_pr2019_crowd_zscaled'] = scaler.fit_transform(df[['lowqual_pr2019_crowd']])"
   ]
  },
  {
   "cell_type": "markdown",
   "id": "357633e6-a1f2-47a2-83aa-da4789740d64",
   "metadata": {},
   "source": [
    "* We will also create a new column in order make easier the correct legend for the plots."
   ]
  },
  {
   "cell_type": "code",
   "execution_count": 10,
   "id": "cfd913f7-ef62-4a8d-9488-73f40de9b72c",
   "metadata": {},
   "outputs": [],
   "source": [
    "df['People who shared'] = df['politics_hashtag'].map({0: 'Biden hashtags', 1: 'Trump hashtags'})"
   ]
  },
  {
   "cell_type": "markdown",
   "id": "949b8d4b-50df-4ca0-9a5a-98f250500aa0",
   "metadata": {},
   "source": [
    "* And now we are ready to plot both figures."
   ]
  },
  {
   "cell_type": "code",
   "execution_count": 11,
   "id": "95865f4e-0030-42f5-bb0d-ad7649e42bfd",
   "metadata": {},
   "outputs": [
    {
     "data": {
      "image/png": "[encoded data removed]",
      "text/plain": [
       "<Figure size 800x400 with 1 Axes>"
      ]
     },
     "metadata": {},
     "output_type": "display_data"
    }
   ],
   "source": [
    "plt.figure(figsize=(8, 4))\n",
    "palette = {'Biden hashtags': 'cornflowerblue', 'Trump hashtags': 'tomato'}\n",
    "sns.kdeplot(\n",
    "    data=df, \n",
    "    x='lowqual_pr2019_fc_zscaled', \n",
    "    hue='People who shared',\n",
    "    hue_order = ['Trump hashtags', 'Biden hashtags'],\n",
    "    palette = palette,\n",
    "    fill=True,\n",
    "    alpha=0.5\n",
    ")\n",
    "\n",
    "plt.xlabel(\"Low-Quality News Sharing\")\n",
    "plt.ylabel(\"Frequency\")\n",
    "\n",
    "plt.tight_layout()\n",
    "plt.show()"
   ]
  },
  {
   "cell_type": "code",
   "execution_count": 12,
   "id": "281cec5d-0980-4f9d-b4b2-881ac77f9663",
   "metadata": {},
   "outputs": [
    {
     "data": {
      "image/png": "[encoded data removed]",
      "text/plain": [
       "<Figure size 800x400 with 1 Axes>"
      ]
     },
     "metadata": {},
     "output_type": "display_data"
    }
   ],
   "source": [
    "plt.figure(figsize=(8, 4))\n",
    "sns.kdeplot(\n",
    "    data=df, \n",
    "    x='lowqual_pr2019_crowd_zscaled', \n",
    "    hue='People who shared',\n",
    "    hue_order = ['Trump hashtags', 'Biden hashtags'],\n",
    "    palette = palette,\n",
    "    fill=True,\n",
    "    alpha=0.5,\n",
    ")\n",
    "\n",
    "plt.xlabel(\"Low-Quality News Sharing\")\n",
    "plt.ylabel(\"Frequency\")\n",
    "\n",
    "plt.tight_layout()\n",
    "plt.show()"
   ]
  },
  {
   "cell_type": "markdown",
   "id": "8fc4eb99-df78-4d7b-afe9-e2fd3b338ce0",
   "metadata": {},
   "source": [
    "* Both plots show that the distributions are centered around completely different values.  \n",
    "* Both fact-checkers and crowd evaluations indicate that the metric for low-quality news sharing is mostly **negative for Biden's supporters**.  \n",
    "* On the other hand, the metric is mostly **positive for Trump's supporters**, suggesting that they share more low-quality content.  \n",
    "* In the next section, we will test whether the means of these metrics, along with additional columns, are equal and if the observed differences could be attributed to chance."
   ]
  },
  {
   "cell_type": "markdown",
   "id": "bcac54aa-de14-45ad-9aa0-2b115036a52c",
   "metadata": {},
   "source": [
    "## Low-quality News Sharing on Twitter"
   ]
  },
  {
   "cell_type": "markdown",
   "id": "a7135a62-0954-4123-8bef-e0193c4e70d7",
   "metadata": {},
   "source": [
    "* In this section, we will test whether the means of several low-quality variables/metrics are equal between Trump and Biden supporters.\n",
    "* First, we define the variables."
   ]
  },
  {
   "cell_type": "code",
   "execution_count": 13,
   "id": "0fa88031-78eb-4bb9-bc32-6e114fb71b9a",
   "metadata": {},
   "outputs": [],
   "source": [
    "low_qual_variables = [\n",
    "    'lowqual_pr2019_fc', 'lowqual_afm', 'lowqual_mbfc',\n",
    "    'lowqual_lasser2019', 'lowqual_pr2019_crowd', 'lowqual_pr2019_crowdrep'\n",
    "]"
   ]
  },
  {
   "cell_type": "markdown",
   "id": "575bfb3d-4583-4e4d-a2b3-ade9581f4c9f",
   "metadata": {},
   "source": [
    "* We will test the above hypotheses with a t-test.\n",
    "* A t-test checks whether the difference between the means of two samples is statistically significant, meaning it is unlikely to have occurred by chance.\n",
    "* The hypotheses are:  \n",
    "  * **H₀**: The means of the two groups are equal (or very close).  \n",
    "  * **H₁**: The means of the two groups are different.\n",
    "* If the p-value is lower than the significant threashold(a=0.05), then we reject the H₀ and accept hypothesis H₁, meaning that the means of the two groups are different."
   ]
  },
  {
   "cell_type": "markdown",
   "id": "4fd7feca-9561-4a76-b41d-c688e03586c3",
   "metadata": {},
   "source": [
    "* Before performing the t-test, it is important to check whether the variances of the two groups being compared are equal or different.  \n",
    "* This information is required as a parameter for the t-test.  \n",
    "* To check the equality of variances, we use **Levene's** test.  \n",
    "* Levene's test evaluates whether the variances of two samples differ significantly, suggesting that any observed difference is unlikely to be due to random variation.  \n",
    "* The hypotheses are:  \n",
    "  * **H₀**: The variances of the two groups are equal.  \n",
    "  * **H₁**: The variances of the two groups are different.\n",
    "* If the p-value is lower than the significant threashold(a=0.05), then the variances are unequal.\n",
    "* Else the variances are equal."
   ]
  },
  {
   "cell_type": "code",
   "execution_count": 14,
   "id": "8c410f59-bc9a-43c8-9285-41696f46effc",
   "metadata": {},
   "outputs": [],
   "source": [
    "from scipy.stats import ttest_ind\n",
    "from scipy.stats import levene"
   ]
  },
  {
   "cell_type": "markdown",
   "id": "eb29b0e2-72df-47a5-b223-755ad0d86e09",
   "metadata": {},
   "source": [
    "* We start by checking if any of them have NaN values."
   ]
  },
  {
   "cell_type": "code",
   "execution_count": 15,
   "id": "658d9eaf-5484-46a4-b44f-14a2455a3f3d",
   "metadata": {},
   "outputs": [
    {
     "data": {
      "text/plain": [
       "lowqual_pr2019_fc          55\n",
       "lowqual_afm                 2\n",
       "lowqual_mbfc                1\n",
       "lowqual_lasser2019          1\n",
       "lowqual_pr2019_crowd       55\n",
       "lowqual_pr2019_crowdrep    55\n",
       "politics_hashtag            0\n",
       "dtype: int64"
      ]
     },
     "execution_count": 15,
     "metadata": {},
     "output_type": "execute_result"
    }
   ],
   "source": [
    "selected_columns = low_qual_variables + ['politics_hashtag']\n",
    "df_low_qual = df[selected_columns].copy()\n",
    "df_low_qual.isna().sum()"
   ]
  },
  {
   "cell_type": "markdown",
   "id": "86418698-aee6-44a1-8f87-801644244fb7",
   "metadata": {},
   "source": [
    "* We will drop all the NaN rows so the tests can run successfully."
   ]
  },
  {
   "cell_type": "code",
   "execution_count": 16,
   "id": "e1353829-3814-4a3f-8d4e-dcf65db0b40a",
   "metadata": {},
   "outputs": [],
   "source": [
    "df_low_qual = df_low_qual[selected_columns].dropna()"
   ]
  },
  {
   "cell_type": "markdown",
   "id": "df2c77c7-fb70-4952-a93b-53233f856799",
   "metadata": {},
   "source": [
    "* We will define the two different groups based on their `politcs_hashtag`."
   ]
  },
  {
   "cell_type": "code",
   "execution_count": 17,
   "id": "8d9149e3-90e9-4d7c-850c-931f5ad1d0a0",
   "metadata": {},
   "outputs": [],
   "source": [
    "group0 = df_low_qual[df_low_qual['politics_hashtag'] == 0]\n",
    "group1 = df_low_qual[df_low_qual['politics_hashtag'] == 1]"
   ]
  },
  {
   "cell_type": "markdown",
   "id": "831b8ff8-1189-4f8f-97a9-c4ebf743f9a2",
   "metadata": {},
   "source": [
    "* Before running the t-test, we need to create the functions that calculate Cohen's d and Hedges' g."
   ]
  },
  {
   "cell_type": "code",
   "execution_count": 18,
   "id": "6022edc3-fdec-4ac2-aff8-40c4e4357010",
   "metadata": {},
   "outputs": [],
   "source": [
    "#s^2\n",
    "def sample_variance(group):\n",
    "    n = len(group)\n",
    "    mean = np.mean(group)\n",
    "    variance = np.sum((group - mean) ** 2) / (n - 1)\n",
    "    return variance\n",
    "\n",
    "#s for two groups\n",
    "def pooled_std(group1, group2):\n",
    "    n1, n2 = len(group1), len(group2)\n",
    "    s1_squared = sample_variance(group1)\n",
    "    s2_squared = sample_variance(group2)\n",
    "    pooled_variance = ((n1 - 1) * s1_squared + (n2 - 1) * s2_squared) / (n1 + n2 - 2)\n",
    "    return np.sqrt(pooled_variance)\n",
    "\n",
    "def cohen_d(group1, group2, pooled_std):\n",
    "    mean1 = np.mean(group1)\n",
    "    mean2 = np.mean(group2)\n",
    "    return (mean1 - mean2) / pooled_std\n",
    "\n",
    "def hedges_g(group1, group2, d):\n",
    "    n1 = len(group1)\n",
    "    n2 = len(group2)\n",
    "    return (1 - (3 / (4 * (n1 + n2) - 9))) * d"
   ]
  },
  {
   "cell_type": "markdown",
   "id": "3fdf876a-7d2c-4611-83f5-ffa74dbceb4d",
   "metadata": {},
   "source": [
    "* Finally, we can run the t-test and calculate Cohen's d and Hedges' g.  \n",
    "* For the parameters, we will always pass `group1` first to ensure positive metric results, as `group1` (Conservatives) generally has larger values than `group0` (Liberals) in low-quality variables."
   ]
  },
  {
   "cell_type": "code",
   "execution_count": 19,
   "id": "0030312d-04d9-4de1-ac6a-8175fa2d4507",
   "metadata": {},
   "outputs": [],
   "source": [
    "results = []\n",
    "\n",
    "for var in low_qual_variables:\n",
    "    # levene's test\n",
    "    levene_stat, levene_p_value = levene(group1[var], group0[var])\n",
    "    equal_var = levene_p_value >= 0.05\n",
    "    \n",
    "    # t-test\n",
    "    t_stat, p_value = ttest_ind(group1[var], group0[var], equal_var=equal_var)\n",
    "        \n",
    "    # pooled std\n",
    "    pooled_standard_dev = pooled_std(group0[var], group1[var])\n",
    "    \n",
    "    # cohen's d\n",
    "    d = cohen_d(group1[var], group0[var], pooled_standard_dev)\n",
    "    \n",
    "    # hedges' g\n",
    "    g = hedges_g(group1[var], group0[var], d)\n",
    "    \n",
    "    results.append({\n",
    "        'Variable': var,\n",
    "        't_stat': t_stat,\n",
    "        'p_value': p_value,\n",
    "        'Cohen_d': d,\n",
    "        'Hedges_g': g\n",
    "    })"
   ]
  },
  {
   "cell_type": "markdown",
   "id": "89fa2462-0be1-4ac0-bb62-17ad70797224",
   "metadata": {},
   "source": [
    "* We can see the results in a dataframe."
   ]
  },
  {
   "cell_type": "code",
   "execution_count": 20,
   "id": "ebf5c59e-9072-42f9-9ac6-fca71310e301",
   "metadata": {},
   "outputs": [
    {
     "data": {
      "text/html": [
       "<div>\n",
       "<style scoped>\n",
       "    .dataframe tbody tr th:only-of-type {\n",
       "        vertical-align: middle;\n",
       "    }\n",
       "\n",
       "    .dataframe tbody tr th {\n",
       "        vertical-align: top;\n",
       "    }\n",
       "\n",
       "    .dataframe thead th {\n",
       "        text-align: right;\n",
       "    }\n",
       "</style>\n",
       "<table border=\"1\" class=\"dataframe\">\n",
       "  <thead>\n",
       "    <tr style=\"text-align: right;\">\n",
       "      <th></th>\n",
       "      <th>Variable</th>\n",
       "      <th>t_stat</th>\n",
       "      <th>p_value</th>\n",
       "      <th>Cohen_d</th>\n",
       "      <th>Hedges_g</th>\n",
       "    </tr>\n",
       "  </thead>\n",
       "  <tbody>\n",
       "    <tr>\n",
       "      <th>0</th>\n",
       "      <td>lowqual_pr2019_fc</td>\n",
       "      <td>119.318095</td>\n",
       "      <td>0.0</td>\n",
       "      <td>2.523332</td>\n",
       "      <td>2.523120</td>\n",
       "    </tr>\n",
       "    <tr>\n",
       "      <th>1</th>\n",
       "      <td>lowqual_afm</td>\n",
       "      <td>102.892945</td>\n",
       "      <td>0.0</td>\n",
       "      <td>2.173268</td>\n",
       "      <td>2.173086</td>\n",
       "    </tr>\n",
       "    <tr>\n",
       "      <th>2</th>\n",
       "      <td>lowqual_mbfc</td>\n",
       "      <td>98.324693</td>\n",
       "      <td>0.0</td>\n",
       "      <td>2.080029</td>\n",
       "      <td>2.079855</td>\n",
       "    </tr>\n",
       "    <tr>\n",
       "      <th>3</th>\n",
       "      <td>lowqual_lasser2019</td>\n",
       "      <td>103.115674</td>\n",
       "      <td>0.0</td>\n",
       "      <td>2.176506</td>\n",
       "      <td>2.176324</td>\n",
       "    </tr>\n",
       "    <tr>\n",
       "      <th>4</th>\n",
       "      <td>lowqual_pr2019_crowd</td>\n",
       "      <td>102.570718</td>\n",
       "      <td>0.0</td>\n",
       "      <td>2.168384</td>\n",
       "      <td>2.168202</td>\n",
       "    </tr>\n",
       "    <tr>\n",
       "      <th>5</th>\n",
       "      <td>lowqual_pr2019_crowdrep</td>\n",
       "      <td>61.120846</td>\n",
       "      <td>0.0</td>\n",
       "      <td>1.292345</td>\n",
       "      <td>1.292236</td>\n",
       "    </tr>\n",
       "  </tbody>\n",
       "</table>\n",
       "</div>"
      ],
      "text/plain": [
       "                  Variable      t_stat  p_value   Cohen_d  Hedges_g\n",
       "0        lowqual_pr2019_fc  119.318095      0.0  2.523332  2.523120\n",
       "1              lowqual_afm  102.892945      0.0  2.173268  2.173086\n",
       "2             lowqual_mbfc   98.324693      0.0  2.080029  2.079855\n",
       "3       lowqual_lasser2019  103.115674      0.0  2.176506  2.176324\n",
       "4     lowqual_pr2019_crowd  102.570718      0.0  2.168384  2.168202\n",
       "5  lowqual_pr2019_crowdrep   61.120846      0.0  1.292345  1.292236"
      ]
     },
     "execution_count": 20,
     "metadata": {},
     "output_type": "execute_result"
    }
   ],
   "source": [
    "results_df = pd.DataFrame(results)\n",
    "results_df"
   ]
  },
  {
   "cell_type": "markdown",
   "id": "09067e26-f236-4105-baa2-1b713ec64f09",
   "metadata": {},
   "source": [
    "* First of all, all p-values are 0, indicating that the mean difference between all groups is statistically significant.  \n",
    "* We will quantify the results using Cohen's d and Hedges' g metrics.  \n",
    "* These metrics are very similar in this case, as the sample sizes are sufficiently large.  \n",
    "* According to the interpretation of Cohen's d and Hedges' g, the difference between almost all groups can be characterized as **huge**.  \n",
    "* The only exception is for sites rated by Republicans, where the difference is slightly smaller but still **very large** and remains practically significant.  \n",
    "* In simpler terms, there is a substantial difference between Biden and Trump supporters in sharing low-quality news, with liberals sharing significantly less compared to conservatives. The test confirms that this difference did not occur by chance.  \n",
    "* Even sites rated only by Republicans/Trump supporters (`lowqual_pr2019_crowdrep`) acknowledge this trend, although the difference is slightly reduced."
   ]
  },
  {
   "cell_type": "markdown",
   "id": "825d8021-5747-47e8-8be1-d78ab5917ca5",
   "metadata": {},
   "source": [
    "### Sharing Lower-quality News Sources and Conservative Ideology"
   ]
  },
  {
   "cell_type": "markdown",
   "id": "00a5af14-66c2-4e71-a26c-77cc3b1f513d",
   "metadata": {},
   "source": [
    "* In this section, we will examine the correlation between pairs of low-quality metrics and political metrics.  \n",
    "* First, we will define the variables."
   ]
  },
  {
   "cell_type": "code",
   "execution_count": 21,
   "id": "dc08387f-4c48-4791-8af3-6e707609a4e1",
   "metadata": {},
   "outputs": [],
   "source": [
    "lowqual_columns = [\n",
    "    \"lowqual_pr2019_fc\", \"lowqual_lasser2019\", \"lowqual_mbfc\", \n",
    "    \"lowqual_afm\", \"lowqual_pr2019_crowd\", \"lowqual_pr2019_crowdrep\"\n",
    "]\n",
    "\n",
    "politics_columns = [\n",
    "    \"politics_followed\", \"politics_hashtag\", \"politics_sites1\", \"politics_sites2\"\n",
    "]"
   ]
  },
  {
   "cell_type": "markdown",
   "id": "0d4a707c-3d92-4c4a-ad90-5b0b5ae03fdb",
   "metadata": {},
   "source": [
    "* We will generate the full correlation matrix and then filter it to include only the relevant rows and columns."
   ]
  },
  {
   "cell_type": "code",
   "execution_count": 22,
   "id": "b3d43c39-f572-4c32-ab2b-24a9d095875f",
   "metadata": {},
   "outputs": [
    {
     "data": {
      "image/png": "[encoded data removed]",
      "text/plain": [
       "<Figure size 600x600 with 2 Axes>"
      ]
     },
     "metadata": {},
     "output_type": "display_data"
    }
   ],
   "source": [
    "correlation_matrix = df[lowqual_columns + politics_columns].corr()\n",
    "correlation_matrix_filtered = correlation_matrix.loc[lowqual_columns, politics_columns]\n",
    "\n",
    "\n",
    "plt.figure(figsize=(6, 6))\n",
    "sns.heatmap(correlation_matrix_filtered, annot=True, cmap='crest', vmin=0.55, vmax=0.9, fmt=\".2f\")\n",
    "plt.xticks(rotation=45)\n",
    "plt.show()"
   ]
  },
  {
   "cell_type": "markdown",
   "id": "890ce896-448b-46a0-871a-ac5dfc297104",
   "metadata": {},
   "source": [
    "* **Low quality variables** measure the quality of news sources shared, with higher values indicating lower quality of news.  \n",
    "* **Politics variables** estimate political ideology, where low values represent Liberals/Biden supporters and high values represent Conservatives/Trump supporters.  \n",
    "* All correlations are **positive and relatively high**, indicating a clear relationship: **as the quality of shared news decreases**(higher value in low-quality variable), **political ideology becomes more conservative**(higher value in political variable).  \n",
    "* Correlations are **lower when rated by Republicans** (`lowqual_pr2019_crowdrep`), suggesting republicans may perceive low-quality sites differently, potentially due to political bias.  "
   ]
  },
  {
   "cell_type": "markdown",
   "id": "fa5de67a-37b2-4ae3-bae4-9801f8bfb10b",
   "metadata": {},
   "source": [
    "## News Sharing Can Help Explain Suspension, Using Single Predictors"
   ]
  },
  {
   "cell_type": "markdown",
   "id": "7765b195-0ea6-43cb-8d1c-22e60081e57f",
   "metadata": {},
   "source": [
    "* In this section, we aim to predict suspension using a single predictor at a time with a probit model.\n",
    "* First, we define the single predictors. \n",
    "* Among these predictors, `politics_hashtag` is the main focus of our analysis."
   ]
  },
  {
   "cell_type": "code",
   "execution_count": 23,
   "id": "1c7d4974-b64d-4b07-92eb-f7bb7408e48c",
   "metadata": {},
   "outputs": [],
   "source": [
    "single_predictors = [\n",
    "    'politics_hashtag', 'politics_sites1', 'politics_sites2', \n",
    "    'politics_followed', 'lowqual_afm', 'lowqual_mbfc', \n",
    "    'lowqual_lasser2019', 'lowqual_pr2019_fc', 'lowqual_pr2019_crowd'\n",
    "]"
   ]
  },
  {
   "cell_type": "markdown",
   "id": "60738277-45c7-425b-8eb7-5cd9242bddb0",
   "metadata": {},
   "source": [
    "* Check if any of them have NaN values."
   ]
  },
  {
   "cell_type": "code",
   "execution_count": 24,
   "id": "169633a8-dd4d-4b7a-a094-c65f754f7d58",
   "metadata": {},
   "outputs": [
    {
     "data": {
      "text/plain": [
       "politics_hashtag           0\n",
       "politics_sites1            0\n",
       "politics_sites2            0\n",
       "politics_followed       1035\n",
       "lowqual_afm                2\n",
       "lowqual_mbfc               1\n",
       "lowqual_lasser2019         1\n",
       "lowqual_pr2019_fc         55\n",
       "lowqual_pr2019_crowd      55\n",
       "suspended                  0\n",
       "dtype: int64"
      ]
     },
     "execution_count": 24,
     "metadata": {},
     "output_type": "execute_result"
    }
   ],
   "source": [
    "selected_columns = single_predictors + ['suspended']\n",
    "df_filtered = df[selected_columns].copy()\n",
    "df_filtered.isna().sum()"
   ]
  },
  {
   "cell_type": "markdown",
   "id": "cd155113-a7ba-4986-8814-4b145cc798a2",
   "metadata": {},
   "source": [
    "* We will drop all rows with NaN values so that the probit model can run properly."
   ]
  },
  {
   "cell_type": "code",
   "execution_count": 25,
   "id": "d7facb79-7ed3-4bb0-9359-6dfa513a9fa8",
   "metadata": {},
   "outputs": [],
   "source": [
    "df_filtered = df_filtered[selected_columns].dropna()"
   ]
  },
  {
   "cell_type": "markdown",
   "id": "395663a8-b026-404a-bbcc-4b5a43855cd4",
   "metadata": {},
   "source": [
    "* We will perform 100 iterations, each time creating a new sample through resampling (**bootstrap method**).  \n",
    "* The new sample will have the same size as the filtered dataset's column corresponding to the predictor. \n",
    "* Predictions will be made on the bootstrap sample.  \n",
    "* For evaluation metrics, we will use the **roc_curve** and **auc_score**."
   ]
  },
  {
   "cell_type": "code",
   "execution_count": 26,
   "id": "cde0df8a-80b7-4ee1-8372-fc289b571dbe",
   "metadata": {},
   "outputs": [],
   "source": [
    "from sklearn.utils import resample\n",
    "from statsmodels.formula.api import probit\n",
    "from sklearn.metrics import roc_curve, auc"
   ]
  },
  {
   "cell_type": "code",
   "execution_count": 27,
   "id": "d2fca7d7-d604-4f60-b4c2-b2d59480a63c",
   "metadata": {},
   "outputs": [
    {
     "name": "stdout",
     "output_type": "stream",
     "text": [
      "Processing predictor: politics_hashtag\n",
      "Processing predictor: politics_sites1\n",
      "Processing predictor: politics_sites2\n",
      "Processing predictor: politics_followed\n",
      "Processing predictor: lowqual_afm\n",
      "Processing predictor: lowqual_mbfc\n",
      "Processing predictor: lowqual_lasser2019\n",
      "Processing predictor: lowqual_pr2019_fc\n",
      "Processing predictor: lowqual_pr2019_crowd\n"
     ]
    }
   ],
   "source": [
    "n_iterations = 100\n",
    "results = []\n",
    "\n",
    "for predictor in single_predictors:\n",
    "    print(f\"Processing predictor: {predictor}\")\n",
    "    \n",
    "    sample_size = len(df_filtered[predictor])\n",
    "    auc_predictor_scores = []\n",
    "    \n",
    "    for i in range(n_iterations):\n",
    "        \n",
    "        # Create the sample with bootstrap method\n",
    "        bootstrap_sample = resample(df_filtered, replace=True, n_samples= sample_size)\n",
    "        \n",
    "        # Construct and fit the probit model\n",
    "        model = probit(f\"suspended ~ {predictor}\", data=bootstrap_sample).fit(disp=0)\n",
    "        \n",
    "        # Make predictions for this sample\n",
    "        bootstrap_sample['predicted_prob'] = model.predict(bootstrap_sample[predictor])\n",
    "        \n",
    "        # Calculate auc_score for this sample\n",
    "        fpr, tpr, _ = roc_curve(bootstrap_sample['suspended'], bootstrap_sample['predicted_prob'])\n",
    "        auc_score = auc(fpr, tpr)\n",
    "        auc_predictor_scores.append(auc_score)\n",
    "    \n",
    "    # Calculate mean AUC and confidence intervals between 5% and 95%\n",
    "    mean_auc = np.mean(auc_predictor_scores)\n",
    "    ci_lower = np.percentile(auc_predictor_scores, 5)\n",
    "    ci_upper = np.percentile(auc_predictor_scores, 95)\n",
    "    \n",
    "    results.append({\n",
    "        \"Predictor\": predictor,\n",
    "        \"Mean AUC\": mean_auc,\n",
    "        \"CI Lower\": ci_lower,\n",
    "        \"CI Upper\": ci_upper\n",
    "    })"
   ]
  },
  {
   "cell_type": "markdown",
   "id": "b088562c-ee90-4d9f-a94e-d6e323136f3f",
   "metadata": {},
   "source": [
    "* We can display the result as a DataFrame."
   ]
  },
  {
   "cell_type": "code",
   "execution_count": 28,
   "id": "4cd71a29-c9f0-470a-a2c1-64f85fbfa9aa",
   "metadata": {},
   "outputs": [
    {
     "data": {
      "text/html": [
       "<div>\n",
       "<style scoped>\n",
       "    .dataframe tbody tr th:only-of-type {\n",
       "        vertical-align: middle;\n",
       "    }\n",
       "\n",
       "    .dataframe tbody tr th {\n",
       "        vertical-align: top;\n",
       "    }\n",
       "\n",
       "    .dataframe thead th {\n",
       "        text-align: right;\n",
       "    }\n",
       "</style>\n",
       "<table border=\"1\" class=\"dataframe\">\n",
       "  <thead>\n",
       "    <tr style=\"text-align: right;\">\n",
       "      <th></th>\n",
       "      <th>Predictor</th>\n",
       "      <th>Mean AUC</th>\n",
       "      <th>CI Lower</th>\n",
       "      <th>CI Upper</th>\n",
       "    </tr>\n",
       "  </thead>\n",
       "  <tbody>\n",
       "    <tr>\n",
       "      <th>0</th>\n",
       "      <td>politics_hashtag</td>\n",
       "      <td>0.697685</td>\n",
       "      <td>0.686755</td>\n",
       "      <td>0.711651</td>\n",
       "    </tr>\n",
       "    <tr>\n",
       "      <th>1</th>\n",
       "      <td>politics_sites1</td>\n",
       "      <td>0.716587</td>\n",
       "      <td>0.705539</td>\n",
       "      <td>0.729835</td>\n",
       "    </tr>\n",
       "    <tr>\n",
       "      <th>2</th>\n",
       "      <td>politics_sites2</td>\n",
       "      <td>0.722908</td>\n",
       "      <td>0.709519</td>\n",
       "      <td>0.733133</td>\n",
       "    </tr>\n",
       "    <tr>\n",
       "      <th>3</th>\n",
       "      <td>politics_followed</td>\n",
       "      <td>0.716069</td>\n",
       "      <td>0.702959</td>\n",
       "      <td>0.731658</td>\n",
       "    </tr>\n",
       "    <tr>\n",
       "      <th>4</th>\n",
       "      <td>lowqual_afm</td>\n",
       "      <td>0.732764</td>\n",
       "      <td>0.719661</td>\n",
       "      <td>0.748896</td>\n",
       "    </tr>\n",
       "    <tr>\n",
       "      <th>5</th>\n",
       "      <td>lowqual_mbfc</td>\n",
       "      <td>0.722388</td>\n",
       "      <td>0.709029</td>\n",
       "      <td>0.736401</td>\n",
       "    </tr>\n",
       "    <tr>\n",
       "      <th>6</th>\n",
       "      <td>lowqual_lasser2019</td>\n",
       "      <td>0.721900</td>\n",
       "      <td>0.709069</td>\n",
       "      <td>0.736956</td>\n",
       "    </tr>\n",
       "    <tr>\n",
       "      <th>7</th>\n",
       "      <td>lowqual_pr2019_fc</td>\n",
       "      <td>0.714425</td>\n",
       "      <td>0.702537</td>\n",
       "      <td>0.726622</td>\n",
       "    </tr>\n",
       "    <tr>\n",
       "      <th>8</th>\n",
       "      <td>lowqual_pr2019_crowd</td>\n",
       "      <td>0.702177</td>\n",
       "      <td>0.688463</td>\n",
       "      <td>0.714951</td>\n",
       "    </tr>\n",
       "  </tbody>\n",
       "</table>\n",
       "</div>"
      ],
      "text/plain": [
       "              Predictor  Mean AUC  CI Lower  CI Upper\n",
       "0      politics_hashtag  0.697685  0.686755  0.711651\n",
       "1       politics_sites1  0.716587  0.705539  0.729835\n",
       "2       politics_sites2  0.722908  0.709519  0.733133\n",
       "3     politics_followed  0.716069  0.702959  0.731658\n",
       "4           lowqual_afm  0.732764  0.719661  0.748896\n",
       "5          lowqual_mbfc  0.722388  0.709029  0.736401\n",
       "6    lowqual_lasser2019  0.721900  0.709069  0.736956\n",
       "7     lowqual_pr2019_fc  0.714425  0.702537  0.726622\n",
       "8  lowqual_pr2019_crowd  0.702177  0.688463  0.714951"
      ]
     },
     "execution_count": 28,
     "metadata": {},
     "output_type": "execute_result"
    }
   ],
   "source": [
    "results_df = pd.DataFrame(results)\n",
    "results_df"
   ]
  },
  {
   "cell_type": "markdown",
   "id": "5e56c0ff-5f79-4e15-8241-eb042056f9c7",
   "metadata": {},
   "source": [
    "* We will rename the columns and add a new column in order to replicate the plot."
   ]
  },
  {
   "cell_type": "code",
   "execution_count": 29,
   "id": "6fdc698a-f515-4359-895c-3a74aad946d6",
   "metadata": {},
   "outputs": [],
   "source": [
    "single_predictors_new_names = {\n",
    "    'politics_hashtag': 'Hashtag shared',\n",
    "    'politics_sites1': 'News sites shared 1',\n",
    "    'politics_sites2': 'News sites shared 2',\n",
    "    'politics_followed': 'Accounts followed',\n",
    "    'lowqual_afm': 'AFM ratings',\n",
    "    'lowqual_mbfc': 'MBFC ratings',\n",
    "    'lowqual_lasser2019': 'Lasser ratings',\n",
    "    'lowqual_pr2019_fc': 'Fact-checkers ratings',\n",
    "    'lowqual_pr2019_crowd': 'Layperson ratings'\n",
    "}"
   ]
  },
  {
   "cell_type": "code",
   "execution_count": 30,
   "id": "8f340e0c-2c4e-454f-9cb5-514c5da62806",
   "metadata": {},
   "outputs": [
    {
     "data": {
      "text/html": [
       "<div>\n",
       "<style scoped>\n",
       "    .dataframe tbody tr th:only-of-type {\n",
       "        vertical-align: middle;\n",
       "    }\n",
       "\n",
       "    .dataframe tbody tr th {\n",
       "        vertical-align: top;\n",
       "    }\n",
       "\n",
       "    .dataframe thead th {\n",
       "        text-align: right;\n",
       "    }\n",
       "</style>\n",
       "<table border=\"1\" class=\"dataframe\">\n",
       "  <thead>\n",
       "    <tr style=\"text-align: right;\">\n",
       "      <th></th>\n",
       "      <th>Predictor</th>\n",
       "      <th>Mean AUC</th>\n",
       "      <th>CI Lower</th>\n",
       "      <th>CI Upper</th>\n",
       "      <th>Classes</th>\n",
       "    </tr>\n",
       "  </thead>\n",
       "  <tbody>\n",
       "    <tr>\n",
       "      <th>0</th>\n",
       "      <td>Hashtag shared</td>\n",
       "      <td>0.697685</td>\n",
       "      <td>0.686755</td>\n",
       "      <td>0.711651</td>\n",
       "      <td>Political orientation</td>\n",
       "    </tr>\n",
       "    <tr>\n",
       "      <th>1</th>\n",
       "      <td>News sites shared 1</td>\n",
       "      <td>0.716587</td>\n",
       "      <td>0.705539</td>\n",
       "      <td>0.729835</td>\n",
       "      <td>Political orientation</td>\n",
       "    </tr>\n",
       "    <tr>\n",
       "      <th>2</th>\n",
       "      <td>News sites shared 2</td>\n",
       "      <td>0.722908</td>\n",
       "      <td>0.709519</td>\n",
       "      <td>0.733133</td>\n",
       "      <td>Political orientation</td>\n",
       "    </tr>\n",
       "    <tr>\n",
       "      <th>3</th>\n",
       "      <td>Accounts followed</td>\n",
       "      <td>0.716069</td>\n",
       "      <td>0.702959</td>\n",
       "      <td>0.731658</td>\n",
       "      <td>Political orientation</td>\n",
       "    </tr>\n",
       "    <tr>\n",
       "      <th>4</th>\n",
       "      <td>AFM ratings</td>\n",
       "      <td>0.732764</td>\n",
       "      <td>0.719661</td>\n",
       "      <td>0.748896</td>\n",
       "      <td>Low-quality news sharing</td>\n",
       "    </tr>\n",
       "    <tr>\n",
       "      <th>5</th>\n",
       "      <td>MBFC ratings</td>\n",
       "      <td>0.722388</td>\n",
       "      <td>0.709029</td>\n",
       "      <td>0.736401</td>\n",
       "      <td>Low-quality news sharing</td>\n",
       "    </tr>\n",
       "    <tr>\n",
       "      <th>6</th>\n",
       "      <td>Lasser ratings</td>\n",
       "      <td>0.721900</td>\n",
       "      <td>0.709069</td>\n",
       "      <td>0.736956</td>\n",
       "      <td>Low-quality news sharing</td>\n",
       "    </tr>\n",
       "    <tr>\n",
       "      <th>7</th>\n",
       "      <td>Fact-checkers ratings</td>\n",
       "      <td>0.714425</td>\n",
       "      <td>0.702537</td>\n",
       "      <td>0.726622</td>\n",
       "      <td>Low-quality news sharing</td>\n",
       "    </tr>\n",
       "    <tr>\n",
       "      <th>8</th>\n",
       "      <td>Layperson ratings</td>\n",
       "      <td>0.702177</td>\n",
       "      <td>0.688463</td>\n",
       "      <td>0.714951</td>\n",
       "      <td>Low-quality news sharing</td>\n",
       "    </tr>\n",
       "  </tbody>\n",
       "</table>\n",
       "</div>"
      ],
      "text/plain": [
       "               Predictor  Mean AUC  CI Lower  CI Upper  \\\n",
       "0         Hashtag shared  0.697685  0.686755  0.711651   \n",
       "1    News sites shared 1  0.716587  0.705539  0.729835   \n",
       "2    News sites shared 2  0.722908  0.709519  0.733133   \n",
       "3      Accounts followed  0.716069  0.702959  0.731658   \n",
       "4            AFM ratings  0.732764  0.719661  0.748896   \n",
       "5           MBFC ratings  0.722388  0.709029  0.736401   \n",
       "6         Lasser ratings  0.721900  0.709069  0.736956   \n",
       "7  Fact-checkers ratings  0.714425  0.702537  0.726622   \n",
       "8      Layperson ratings  0.702177  0.688463  0.714951   \n",
       "\n",
       "                    Classes  \n",
       "0     Political orientation  \n",
       "1     Political orientation  \n",
       "2     Political orientation  \n",
       "3     Political orientation  \n",
       "4  Low-quality news sharing  \n",
       "5  Low-quality news sharing  \n",
       "6  Low-quality news sharing  \n",
       "7  Low-quality news sharing  \n",
       "8  Low-quality news sharing  "
      ]
     },
     "execution_count": 30,
     "metadata": {},
     "output_type": "execute_result"
    }
   ],
   "source": [
    "results_df['Predictor'] = results_df['Predictor'].replace(single_predictors_new_names)\n",
    "results_df['Classes'] = ['Political orientation'] * 4 + ['Low-quality news sharing'] * 5\n",
    "results_df"
   ]
  },
  {
   "cell_type": "markdown",
   "id": "31cc7cd2-a326-4a18-a0ce-1e8d34bcec3e",
   "metadata": {},
   "source": [
    "* Also, we need to calculate the intervals for the error bars."
   ]
  },
  {
   "cell_type": "code",
   "execution_count": 31,
   "id": "abccc7ff-2316-471b-856a-e187a219595c",
   "metadata": {},
   "outputs": [],
   "source": [
    "ci_lowers = results_df[\"Mean AUC\"] - results_df[\"CI Lower\"]\n",
    "ci_uppers = results_df[\"CI Upper\"] - results_df[\"Mean AUC\"]\n",
    "intervals = [ci_lowers, ci_uppers]"
   ]
  },
  {
   "cell_type": "markdown",
   "id": "b4bba5c3-8b7b-4aee-aa08-0257196e69ef",
   "metadata": {},
   "source": [
    "* Lastly, in order to make the plot as close as possible to the one in the instructions, we need to change the labels using regular expressions.  \n",
    "* If the label has an empty space or a hyphen (-), it will be swapped with a new line.  \n",
    "* However, if the next character is a number, there won't be any new line."
   ]
  },
  {
   "cell_type": "code",
   "execution_count": 32,
   "id": "7b2b93ab-4037-4d79-a219-3dd75cca9058",
   "metadata": {},
   "outputs": [],
   "source": [
    "import re\n",
    "\n",
    "labels = results_df['Predictor']\n",
    "wrapped_labels = []\n",
    "for label in labels:\n",
    "    label = re.sub(r'(?<!\\d) (?!\\d)', \"\\n\", label)\n",
    "    label = label.replace(\"-\", \"-\\n\")\n",
    "    wrapped_labels.append(label)"
   ]
  },
  {
   "cell_type": "code",
   "execution_count": 33,
   "id": "d390d79e-ae2c-4cd4-bfcc-73cecd8b6c85",
   "metadata": {},
   "outputs": [
    {
     "data": {
      "image/png": "[encoded data removed]",
      "text/plain": [
       "<Figure size 800x500 with 1 Axes>"
      ]
     },
     "metadata": {},
     "output_type": "display_data"
    }
   ],
   "source": [
    "plt.figure(figsize=(8, 5))\n",
    "\n",
    "palette = {'Political orientation': 'purple', 'Low-quality news sharing': 'green'}\n",
    "sns.barplot(x='Predictor', y='Mean AUC', hue='Classes', data=results_df,  palette=palette, width=0.6, edgecolor='black', linewidth=1)\n",
    "\n",
    "plt.errorbar(x=np.arange(len(results_df)), y=results_df[\"Mean AUC\"], yerr=intervals, fmt='none', capsize=5, color='black')\n",
    "\n",
    "plt.xticks(ticks=np.arange(len(labels)), labels=wrapped_labels)\n",
    "plt.ylim(0.5, 0.8)\n",
    "\n",
    "#no tiltes\n",
    "plt.xlabel(\"\")\n",
    "plt.ylabel(\"\")\n",
    "\n",
    "plt.tight_layout()\n",
    "plt.show()"
   ]
  },
  {
   "cell_type": "markdown",
   "id": "d36f7c74-c630-49ec-b296-e587b7744cca",
   "metadata": {},
   "source": [
    "* We observe that `hashtag shared`, previously known as `politics_hashtag`, has the lowest mean AUC metric compared to all other single predictors.  \n",
    "* This indicates that, while it remains important (with a mean AUC close to 70%), it is **less significant** than the other predictors when examined individually.  \n",
    "* Additionally, its AUC value is lower than that of any low-quality variable.  \n",
    "* This suggests that sharing misinformation is a stronger indicator of suspension than simply being a Trump supporter."
   ]
  },
  {
   "cell_type": "markdown",
   "id": "25c1eed9-d8c6-48e8-ab3d-7c64e3024feb",
   "metadata": {},
   "source": [
    "## News Sharing Can Help Explain Suspension, Using Multiple Predictors"
   ]
  },
  {
   "cell_type": "markdown",
   "id": "1a2719ad-813c-40c5-b121-00b95fb3700b",
   "metadata": {},
   "source": [
    "* In the final section, we aim to predict suspension using multiple predictors.  \n",
    "* To achieve this, we group multiple variables with similar themes using PCA.  \n",
    "* As a first step, we fill all NaN values with the mean of each respective column."
   ]
  },
  {
   "cell_type": "code",
   "execution_count": 34,
   "id": "11bbb150-8868-4c89-beef-01ac5e5c6030",
   "metadata": {},
   "outputs": [],
   "source": [
    "df = df.drop(columns = ['People who shared'])\n",
    "df_filled = df.fillna(df.mean())"
   ]
  },
  {
   "cell_type": "markdown",
   "id": "44c4799c-4327-4f6e-bf30-4654ab94ca7c",
   "metadata": {},
   "source": [
    "* Log-transform some variables."
   ]
  },
  {
   "cell_type": "code",
   "execution_count": 35,
   "id": "954e0f5b-3b74-4f9a-a8ea-fdca8de61cb1",
   "metadata": {},
   "outputs": [],
   "source": [
    "df_filled['log_repeated_tweet_count'] = np.log10(df_filled['repeated_tweet_count'] + 1)\n",
    "df_filled['log_freq_pr_1h'] = np.log10(df_filled['freq_pr_1h'] + 1)\n",
    "df_filled['log_num_followers'] = np.log10(df_filled['num_followers'] + 1)\n",
    "df_filled['log_num_friends'] = np.log10(df_filled['num_friends'] + 1)\n",
    "df_filled['log_fol'] = np.log10((df_filled['num_friends'] + 1) / (df_filled['num_followers'] + 1))"
   ]
  },
  {
   "cell_type": "markdown",
   "id": "f5fab52f-236c-422d-bb84-d6fc478556e0",
   "metadata": {},
   "source": [
    "* We will apply the winsorization procedure to various variables.  \n",
    "* Winsorization involves limiting extreme values in the data to reduce the impact of outliers.  \n",
    "* Some variables will be winsorized on both sides (lower and upper bounds), while others only on the upper side."
   ]
  },
  {
   "cell_type": "code",
   "execution_count": 36,
   "id": "6e80823a-40e3-40e6-ba69-b6497fe3c3b2",
   "metadata": {},
   "outputs": [],
   "source": [
    "from scipy.stats.mstats import winsorize"
   ]
  },
  {
   "cell_type": "markdown",
   "id": "7aca5d22-8a26-4b77-9642-1abe604cc11d",
   "metadata": {},
   "source": [
    "* Both sides by top 1%."
   ]
  },
  {
   "cell_type": "code",
   "execution_count": 37,
   "id": "ba001d8f-b91b-48e1-ba5c-1139332093d0",
   "metadata": {},
   "outputs": [],
   "source": [
    "variables_to_winsorize_both = [\n",
    "    'valence_neg', 'valence_neu', 'valence_pos', 'barbera_std', 'politics_sites1_std', 'politics_sites2_ideo_std'\n",
    "]\n",
    "\n",
    "for var in variables_to_winsorize_both:\n",
    "    df_filled[var] = winsorize(df_filled[var], limits=(0.01, 0.01))"
   ]
  },
  {
   "cell_type": "markdown",
   "id": "04d7ad56-25fb-4029-93a0-eb65a0b46a89",
   "metadata": {},
   "source": [
    "* Only upper side by top 1%."
   ]
  },
  {
   "cell_type": "code",
   "execution_count": 38,
   "id": "74b1fd8f-d488-406f-93a8-d82627cbbca1",
   "metadata": {},
   "outputs": [],
   "source": [
    "variables_to_winsorize_upper = [\n",
    "    'moral_outrage', 'rewire_abuse', 'rewire_hate', 'rewire_profanity', 'rewire_violent', 'rewire_sexually_explicit', \n",
    "    'jigsaw_toxicity', 'jigsaw_severe_toxicity', 'jigsaw_idenity_attack', 'jigsaw_insult', 'jigsaw_profanity', 'jigsaw_threat'\n",
    "]\n",
    "\n",
    "for var in variables_to_winsorize_upper:\n",
    "    df_filled[var] = winsorize(df_filled[var], limits=(0, 0.01))"
   ]
  },
  {
   "cell_type": "markdown",
   "id": "2a48080c-8fac-48f0-968a-91a9288b4bf5",
   "metadata": {},
   "source": [
    "* Now we will repeatedly perform PCA procedures. The procedure is as follows:  \n",
    "  * Define the variables.  \n",
    "  * Scale them.  \n",
    "  * Create the PCA constructor and specify the number of components.  \n",
    "  * Fit the PCA model and transform the data into its principal components. \n",
    "  * Add the new PCA variables to the dataframe.  \n",
    "  * Interpret the explained variance ratio to understand how much variance is explaiend by each component."
   ]
  },
  {
   "cell_type": "code",
   "execution_count": 39,
   "id": "93a32749-3a94-4e87-9dee-7771de6ad5f6",
   "metadata": {},
   "outputs": [],
   "source": [
    "from sklearn.decomposition import PCA"
   ]
  },
  {
   "cell_type": "markdown",
   "id": "7fa5de00-9ad7-4721-b58d-0bdb795618d9",
   "metadata": {},
   "source": [
    "* PCA for low quality variables."
   ]
  },
  {
   "cell_type": "code",
   "execution_count": 40,
   "id": "e6fb0502-fdac-4a7e-9e3e-b362c892150e",
   "metadata": {},
   "outputs": [
    {
     "name": "stdout",
     "output_type": "stream",
     "text": [
      "Explained Variance Ratio (PC1 Misinformation): 0.87\n"
     ]
    }
   ],
   "source": [
    "low_quality_vars = ['lowqual_pr2019_fc', 'lowqual_afm', 'lowqual_lasser2019', 'lowqual_mbfc']\n",
    "\n",
    "scaler = StandardScaler()\n",
    "scaled_low_quality_data = scaler.fit_transform(df_filled[low_quality_vars])\n",
    "\n",
    "pca = PCA(n_components=1)\n",
    "pc1 = pca.fit_transform(scaled_low_quality_data)\n",
    "\n",
    "df_filled['pc1_misinfo'] = pc1\n",
    "\n",
    "explained_variance_ratio = pca.explained_variance_ratio_[0]\n",
    "print(f\"Explained Variance Ratio (PC1 Misinformation): {explained_variance_ratio:.2f}\")"
   ]
  },
  {
   "cell_type": "markdown",
   "id": "dedeeeac-2545-4abf-8a4d-032952931ec0",
   "metadata": {},
   "source": [
    "* PCA for politics variables."
   ]
  },
  {
   "cell_type": "code",
   "execution_count": 41,
   "id": "7446bad3-5eba-4f0c-b526-89386c1919b6",
   "metadata": {},
   "outputs": [
    {
     "name": "stdout",
     "output_type": "stream",
     "text": [
      "Explained Variance Ratio (PC1 Politics): 0.88\n"
     ]
    }
   ],
   "source": [
    "politics_vars = ['politics_hashtag', 'politics_followed', 'politics_sites1', 'politics_sites2']\n",
    "\n",
    "scaled_politics_data = scaler.fit_transform(df_filled[politics_vars])\n",
    "\n",
    "pca_politics = PCA(n_components=1)\n",
    "pc1_politics = pca_politics.fit_transform(scaled_politics_data)\n",
    "\n",
    "df_filled['pc1_politics'] = pc1_politics\n",
    "\n",
    "explained_variance_ratio_politics = pca_politics.explained_variance_ratio_[0]\n",
    "print(f\"Explained Variance Ratio (PC1 Politics): {explained_variance_ratio_politics:.2f}\")"
   ]
  },
  {
   "cell_type": "markdown",
   "id": "4c89e987-c0b9-40b6-9c3b-1e2d1a64221b",
   "metadata": {},
   "source": [
    "* Additionally, create the `extremity` variable as the absolute value of `pca_politics`.  \n",
    "* This variable identifies extremists from both sides."
   ]
  },
  {
   "cell_type": "code",
   "execution_count": 42,
   "id": "b0e89f68-4d7b-43b6-ba7a-1e8705305c71",
   "metadata": {},
   "outputs": [],
   "source": [
    "df_filled['extremity'] = df_filled['pc1_politics'].abs()"
   ]
  },
  {
   "cell_type": "markdown",
   "id": "aad40dd0-a803-419e-8932-ebcc67c4faa1",
   "metadata": {},
   "source": [
    "* PCA for friends and followers variables."
   ]
  },
  {
   "cell_type": "code",
   "execution_count": 43,
   "id": "94187580-f127-4f70-823c-0acf77072837",
   "metadata": {},
   "outputs": [
    {
     "name": "stdout",
     "output_type": "stream",
     "text": [
      "Explained Variance Ratio (PC1 Fol): 0.70\n"
     ]
    }
   ],
   "source": [
    "fol_vars = ['log_num_followers', 'log_num_friends', 'log_fol']\n",
    "\n",
    "scaled_fol_data = scaler.fit_transform(df_filled[fol_vars])\n",
    "\n",
    "pca_fol = PCA(n_components=1)\n",
    "pc1_fol = pca_fol.fit_transform(scaled_fol_data)\n",
    "\n",
    "df_filled['pc1_fol'] = pc1_fol\n",
    "\n",
    "explained_variance_ratio_fol = pca_fol.explained_variance_ratio_[0]\n",
    "print(f\"Explained Variance Ratio (PC1 Fol): {explained_variance_ratio_fol:.2f}\")"
   ]
  },
  {
   "cell_type": "markdown",
   "id": "08f46a52-7f5d-4ef0-8fe1-7569ee88f26d",
   "metadata": {},
   "source": [
    "* PCA for harmfull language variables.\n",
    "* For this PCA procedure only, we will use 3 pca components and have to interpret each one."
   ]
  },
  {
   "cell_type": "code",
   "execution_count": 44,
   "id": "11cc605b-ad13-4649-ba2d-68d94dcf302a",
   "metadata": {},
   "outputs": [
    {
     "name": "stdout",
     "output_type": "stream",
     "text": [
      "Explained Variance Ratios:\n",
      "PC1: 0.56\n",
      "PC2: 0.12\n",
      "PC3: 0.11\n"
     ]
    }
   ],
   "source": [
    "harmful_language_vars = [\n",
    "    'rewire_abuse', 'rewire_hate', 'rewire_profanity', 'rewire_violent', 'rewire_sexually_explicit', \n",
    "    'jigsaw_toxicity', 'jigsaw_severe_toxicity', 'jigsaw_idenity_attack', 'jigsaw_insult', 'jigsaw_profanity', 'jigsaw_threat'\n",
    "]\n",
    "\n",
    "scaled_harmful_data = scaler.fit_transform(df_filled[harmful_language_vars])\n",
    "\n",
    "pca_harmful = PCA(n_components=3)\n",
    "pcs_harmful = pca_harmful.fit_transform(scaled_harmful_data)\n",
    "\n",
    "df_filled['pc1_harmful_language'] = pcs_harmful[:, 0]\n",
    "df_filled['pc2_harmful_language'] = pcs_harmful[:, 1]\n",
    "df_filled['pc3_harmful_language'] = pcs_harmful[:, 2]\n",
    "\n",
    "explained_variance_ratios = pca_harmful.explained_variance_ratio_\n",
    "print(\"Explained Variance Ratios:\")\n",
    "for i, ratio in enumerate(explained_variance_ratios, start=1):\n",
    "    print(f\"PC{i}: {ratio:.2f}\")"
   ]
  },
  {
   "cell_type": "markdown",
   "id": "c02bd2a4-8c6d-473b-9297-dcdca2dc2511",
   "metadata": {},
   "source": [
    "* The reason we opted for 3 components instead of 1 is that the explained variance ratio for the first component is only 56%.\n",
    "* In other cases, it is at least 70%, which is significantly better compared to 56%.  \n",
    "* This shows that a single component does not capture enough of the variance to describe the data well, so we need to include more components.  \n",
    "* To understand the results in more detail, we also need to look at the **loadings**, which show how much each variable contributes to each principal component."
   ]
  },
  {
   "cell_type": "code",
   "execution_count": 45,
   "id": "b121affd-c6b0-470b-b860-b481d6c1f498",
   "metadata": {},
   "outputs": [
    {
     "data": {
      "text/html": [
       "<div>\n",
       "<style scoped>\n",
       "    .dataframe tbody tr th:only-of-type {\n",
       "        vertical-align: middle;\n",
       "    }\n",
       "\n",
       "    .dataframe tbody tr th {\n",
       "        vertical-align: top;\n",
       "    }\n",
       "\n",
       "    .dataframe thead th {\n",
       "        text-align: right;\n",
       "    }\n",
       "</style>\n",
       "<table border=\"1\" class=\"dataframe\">\n",
       "  <thead>\n",
       "    <tr style=\"text-align: right;\">\n",
       "      <th></th>\n",
       "      <th>PC1</th>\n",
       "      <th>PC2</th>\n",
       "      <th>PC3</th>\n",
       "    </tr>\n",
       "  </thead>\n",
       "  <tbody>\n",
       "    <tr>\n",
       "      <th>rewire_abuse</th>\n",
       "      <td>0.325308</td>\n",
       "      <td>0.344098</td>\n",
       "      <td>-0.307734</td>\n",
       "    </tr>\n",
       "    <tr>\n",
       "      <th>rewire_hate</th>\n",
       "      <td>0.235383</td>\n",
       "      <td>0.576538</td>\n",
       "      <td>-0.031956</td>\n",
       "    </tr>\n",
       "    <tr>\n",
       "      <th>rewire_profanity</th>\n",
       "      <td>0.252557</td>\n",
       "      <td>-0.231914</td>\n",
       "      <td>-0.430397</td>\n",
       "    </tr>\n",
       "    <tr>\n",
       "      <th>rewire_violent</th>\n",
       "      <td>0.232522</td>\n",
       "      <td>0.067403</td>\n",
       "      <td>-0.036995</td>\n",
       "    </tr>\n",
       "    <tr>\n",
       "      <th>rewire_sexually_explicit</th>\n",
       "      <td>0.125269</td>\n",
       "      <td>-0.536866</td>\n",
       "      <td>-0.372709</td>\n",
       "    </tr>\n",
       "    <tr>\n",
       "      <th>jigsaw_toxicity</th>\n",
       "      <td>0.385472</td>\n",
       "      <td>0.132322</td>\n",
       "      <td>-0.078102</td>\n",
       "    </tr>\n",
       "    <tr>\n",
       "      <th>jigsaw_severe_toxicity</th>\n",
       "      <td>0.335861</td>\n",
       "      <td>-0.300996</td>\n",
       "      <td>0.245714</td>\n",
       "    </tr>\n",
       "    <tr>\n",
       "      <th>jigsaw_idenity_attack</th>\n",
       "      <td>0.306922</td>\n",
       "      <td>-0.049473</td>\n",
       "      <td>0.462542</td>\n",
       "    </tr>\n",
       "    <tr>\n",
       "      <th>jigsaw_insult</th>\n",
       "      <td>0.374408</td>\n",
       "      <td>0.137412</td>\n",
       "      <td>-0.037154</td>\n",
       "    </tr>\n",
       "    <tr>\n",
       "      <th>jigsaw_profanity</th>\n",
       "      <td>0.361707</td>\n",
       "      <td>-0.205113</td>\n",
       "      <td>-0.153362</td>\n",
       "    </tr>\n",
       "    <tr>\n",
       "      <th>jigsaw_threat</th>\n",
       "      <td>0.280393</td>\n",
       "      <td>-0.176468</td>\n",
       "      <td>0.522910</td>\n",
       "    </tr>\n",
       "  </tbody>\n",
       "</table>\n",
       "</div>"
      ],
      "text/plain": [
       "                               PC1       PC2       PC3\n",
       "rewire_abuse              0.325308  0.344098 -0.307734\n",
       "rewire_hate               0.235383  0.576538 -0.031956\n",
       "rewire_profanity          0.252557 -0.231914 -0.430397\n",
       "rewire_violent            0.232522  0.067403 -0.036995\n",
       "rewire_sexually_explicit  0.125269 -0.536866 -0.372709\n",
       "jigsaw_toxicity           0.385472  0.132322 -0.078102\n",
       "jigsaw_severe_toxicity    0.335861 -0.300996  0.245714\n",
       "jigsaw_idenity_attack     0.306922 -0.049473  0.462542\n",
       "jigsaw_insult             0.374408  0.137412 -0.037154\n",
       "jigsaw_profanity          0.361707 -0.205113 -0.153362\n",
       "jigsaw_threat             0.280393 -0.176468  0.522910"
      ]
     },
     "execution_count": 45,
     "metadata": {},
     "output_type": "execute_result"
    }
   ],
   "source": [
    "loadings = pca_harmful.components_\n",
    "loading_matrix = pd.DataFrame(\n",
    "    loadings.T, \n",
    "    index=harmful_language_vars, \n",
    "    columns=['PC1', 'PC2', 'PC3']\n",
    ")\n",
    "\n",
    "loading_matrix"
   ]
  },
  {
   "cell_type": "markdown",
   "id": "5cb1b7cf-cf2c-40b8-8be7-9bab1c4f7190",
   "metadata": {},
   "source": [
    "* It follows that the first component is:\n",
    "\n",
    "  $$z_1 = 0.32 \\times x_0 +  0.23 \\times x_1 + 0.25 \\times x_2 + 0.23 \\times x_3 + 0.12 \\times x_4 + 0.38 \\times x_5 + 0.33 \\times x_6 + 0.3 \\times x_7 + 0.37 \\times x_8 + 0.36 \\times x_9 + 0.28 \\times x_10$$\n",
    "\n",
    "* And the second one:\n",
    "\n",
    "   $$z_2 = 0.34 \\times x_0 +  0.57 \\times x_1 - 0.23 \\times x_2 + 0.06 \\times x_3 - 0.53 \\times x_4 + 0.13 \\times x_5 - 0.3 \\times x_6 - 0.04 \\times x_7 + 0.13 \\times x_8 - 0.2 \\times x_9 - 0.17 \\times x_10$$\n",
    "\n",
    "* And the third one:\n",
    "\n",
    "   $$z_3 = - 0.3 \\times x_0 - 0.03 \\times x_1 - 0.43 \\times x_2 - 0.03 \\times x_3 - 0.37 \\times x_4 - 0.07 \\times x_5 + 0.24 \\times x_6 + 0.46 \\times x_7 - 0.03 \\times x_8 - 0.15 \\times x_9 + 0.52 \\times x_10$$\n",
    "\n",
    "* In the above: $x_0$ is `Rewire abuse`, $x_1$ is `Rewire hate`, $x_2$ is `Rewire profanity`, $x_3$ is `Rewire violent`, $x_4$ is `Rewire sexually explicit`, $x_5$ is `Jigsaw toxicity`, $x_6$ is `Jigsaw severe toxicity`, $x_7$ is `Jigsaw idenity attack`, $x_8$ is `Jigsaw insult`, $x_9$ is `Jigsaw profanity`, $x_10$ is `Jigsaw threat`. "
   ]
  },
  {
   "cell_type": "markdown",
   "id": "8e1b9cc5-8002-4e0e-8eb4-df308c07588d",
   "metadata": {},
   "source": [
    "* **The first component** represents a general toxicity dimension, capturing the overall intensity of abusive, insulting, and toxic behavior. All variables contribute positively with similar weights (approximately 25-35%), except for `Rewire sexually explicit`(0.12), which has a much lower contribution.\n",
    "\n",
    "* **The second component** isolates a hate and abuse language dimension, reflecting expressions that may be directed at groups based on race, religion, politics, etc since groups are a common target for hate language. This component emphasizes hateful and abusive language, contrasting it with other forms of toxicity, such as sexually explicit content or profanity.\n",
    "  * Largest positive contributions: `Rewire hate`(0.57), `Rewire abuse`(0.34).  \n",
    "  * Largest negative contributions: `Rewire sexually explicit`(-0.53), `Rewire profanity`(-0.43), `Jigsaw profanity`(-0.2), `Jigsaw severe toxicity`(-0.3).\n",
    "\n",
    "- **The third component** captures a dimension focused on severe, personalized, and targeted harmful language. This includes threats and identity-based attacks.  \n",
    "  * Largest positive contributions: `Jigsaw threat`(0.52), `Jigsaw identity attack`(0.46), `Jigsaw severe toxicity`(0.24).  \n",
    "  * Largest negative contributions: `Rewire profanity`(-0.43), `Rewire sexually explicit`(-0.37), `Rewire abuse`(-0.3).\n",
    "\n",
    "* A **common pattern** across all components is that `Rewire sexually explicit` consistently has the lowest weight. This suggests that sexually explicit language is less important to the toxic or harmful dimensions captured by the PCA components."
   ]
  },
  {
   "cell_type": "markdown",
   "id": "9e73a8ac-ce66-4e44-b5a2-b755d0ead04d",
   "metadata": {},
   "source": [
    "* Harmful language components summary:\n",
    "    * First component: **General toxicity**  \n",
    "    * Second component: **Hate and abuse language, possibly toward groups**\n",
    "    * Third component: **Severe and personalized attacks and threats**"
   ]
  },
  {
   "cell_type": "markdown",
   "id": "55120577-56b6-4d65-a048-73cf93699db3",
   "metadata": {},
   "source": [
    "* PCA for harmfull valence variables."
   ]
  },
  {
   "cell_type": "code",
   "execution_count": 46,
   "id": "a190611f-ceb0-46e7-bcea-323cca56256f",
   "metadata": {},
   "outputs": [
    {
     "name": "stdout",
     "output_type": "stream",
     "text": [
      "Explained Variance Ratio (PC1 Valence): 0.71\n"
     ]
    }
   ],
   "source": [
    "valence_vars = ['valence_neg', 'valence_neu', 'valence_pos']\n",
    "\n",
    "scaled_valence_data = scaler.fit_transform(df_filled[valence_vars])\n",
    "\n",
    "pca_valence = PCA(n_components=1)\n",
    "pc1_valence = pca_valence.fit_transform(scaled_valence_data)\n",
    "\n",
    "df_filled['pc1_valence'] = pc1_valence\n",
    "\n",
    "explained_variance_ratio_valence = pca_valence.explained_variance_ratio_[0]\n",
    "print(f\"Explained Variance Ratio (PC1 Valence): {explained_variance_ratio_valence:.2f}\")"
   ]
  },
  {
   "cell_type": "markdown",
   "id": "fb26da33-be6a-4d42-83a8-069d67ca6247",
   "metadata": {},
   "source": [
    "* Final normalization."
   ]
  },
  {
   "cell_type": "code",
   "execution_count": 47,
   "id": "37fb6e48-391e-4060-948f-a68f0ce9e100",
   "metadata": {},
   "outputs": [],
   "source": [
    "independent_vars = [\n",
    "    'pc1_politics', 'pc1_misinfo', 'pc1_fol',\n",
    "    'pc1_harmful_language', 'pc2_harmful_language', 'pc3_harmful_language',\n",
    "    'pc1_valence', 'tweets_in_2wk', 'botsentinel_score', 'extremity',\n",
    "    'moral_outrage', 'liwc_political', 'log_freq_pr_1h',\n",
    "    'log_repeated_tweet_count', 'barbera_std',\n",
    "    'politics_sites1_std', 'politics_sites2_ideo_std'\n",
    "]\n",
    "\n",
    "normalized_values = scaler.fit_transform(df_filled[independent_vars])"
   ]
  },
  {
   "cell_type": "markdown",
   "id": "e85e29a8-191b-4b15-8f2b-f014d57adbd3",
   "metadata": {},
   "source": [
    "* We will create a new dataframe only with the necessary normalized variables."
   ]
  },
  {
   "cell_type": "code",
   "execution_count": 48,
   "id": "1315a005-ab94-45e8-b757-122461ab4b04",
   "metadata": {},
   "outputs": [
    {
     "data": {
      "text/html": [
       "<div>\n",
       "<style scoped>\n",
       "    .dataframe tbody tr th:only-of-type {\n",
       "        vertical-align: middle;\n",
       "    }\n",
       "\n",
       "    .dataframe tbody tr th {\n",
       "        vertical-align: top;\n",
       "    }\n",
       "\n",
       "    .dataframe thead th {\n",
       "        text-align: right;\n",
       "    }\n",
       "</style>\n",
       "<table border=\"1\" class=\"dataframe\">\n",
       "  <thead>\n",
       "    <tr style=\"text-align: right;\">\n",
       "      <th></th>\n",
       "      <th>pc1_politics</th>\n",
       "      <th>pc1_misinfo</th>\n",
       "      <th>pc1_fol</th>\n",
       "      <th>pc1_harmful_language</th>\n",
       "      <th>pc2_harmful_language</th>\n",
       "      <th>pc3_harmful_language</th>\n",
       "      <th>pc1_valence</th>\n",
       "      <th>tweets_in_2wk</th>\n",
       "      <th>botsentinel_score</th>\n",
       "      <th>extremity</th>\n",
       "      <th>moral_outrage</th>\n",
       "      <th>liwc_political</th>\n",
       "      <th>log_freq_pr_1h</th>\n",
       "      <th>log_repeated_tweet_count</th>\n",
       "      <th>barbera_std</th>\n",
       "      <th>politics_sites1_std</th>\n",
       "      <th>politics_sites2_ideo_std</th>\n",
       "      <th>suspended</th>\n",
       "    </tr>\n",
       "  </thead>\n",
       "  <tbody>\n",
       "    <tr>\n",
       "      <th>0</th>\n",
       "      <td>-0.981819</td>\n",
       "      <td>-0.879590</td>\n",
       "      <td>0.940848</td>\n",
       "      <td>0.970918</td>\n",
       "      <td>0.707154</td>\n",
       "      <td>-0.018457</td>\n",
       "      <td>-0.707111</td>\n",
       "      <td>-0.098523</td>\n",
       "      <td>-0.860011</td>\n",
       "      <td>0.092133</td>\n",
       "      <td>-0.113144</td>\n",
       "      <td>0.347553</td>\n",
       "      <td>0.997574</td>\n",
       "      <td>0.150325</td>\n",
       "      <td>0.969663</td>\n",
       "      <td>0.070983</td>\n",
       "      <td>0.011400</td>\n",
       "      <td>0</td>\n",
       "    </tr>\n",
       "    <tr>\n",
       "      <th>1</th>\n",
       "      <td>1.207348</td>\n",
       "      <td>2.097758</td>\n",
       "      <td>0.475403</td>\n",
       "      <td>0.498986</td>\n",
       "      <td>1.753992</td>\n",
       "      <td>1.085275</td>\n",
       "      <td>-1.258306</td>\n",
       "      <td>-0.487135</td>\n",
       "      <td>0.954429</td>\n",
       "      <td>0.846622</td>\n",
       "      <td>-0.708878</td>\n",
       "      <td>1.828892</td>\n",
       "      <td>0.824833</td>\n",
       "      <td>0.419413</td>\n",
       "      <td>-1.649843</td>\n",
       "      <td>5.438824</td>\n",
       "      <td>1.135080</td>\n",
       "      <td>0</td>\n",
       "    </tr>\n",
       "    <tr>\n",
       "      <th>2</th>\n",
       "      <td>-1.122536</td>\n",
       "      <td>-1.226120</td>\n",
       "      <td>1.130497</td>\n",
       "      <td>0.726641</td>\n",
       "      <td>0.484802</td>\n",
       "      <td>-0.172794</td>\n",
       "      <td>-0.546221</td>\n",
       "      <td>-0.282231</td>\n",
       "      <td>-0.761933</td>\n",
       "      <td>0.562890</td>\n",
       "      <td>0.461963</td>\n",
       "      <td>0.244204</td>\n",
       "      <td>-1.562835</td>\n",
       "      <td>-1.768231</td>\n",
       "      <td>-0.646145</td>\n",
       "      <td>-0.450304</td>\n",
       "      <td>0.087886</td>\n",
       "      <td>0</td>\n",
       "    </tr>\n",
       "    <tr>\n",
       "      <th>3</th>\n",
       "      <td>-0.978910</td>\n",
       "      <td>-0.879824</td>\n",
       "      <td>-2.256152</td>\n",
       "      <td>0.916173</td>\n",
       "      <td>-0.096462</td>\n",
       "      <td>-0.837125</td>\n",
       "      <td>-1.592888</td>\n",
       "      <td>-0.748565</td>\n",
       "      <td>-0.418661</td>\n",
       "      <td>0.082398</td>\n",
       "      <td>0.045181</td>\n",
       "      <td>-0.031394</td>\n",
       "      <td>0.956574</td>\n",
       "      <td>0.267479</td>\n",
       "      <td>-1.303051</td>\n",
       "      <td>-0.126261</td>\n",
       "      <td>0.242857</td>\n",
       "      <td>0</td>\n",
       "    </tr>\n",
       "    <tr>\n",
       "      <th>4</th>\n",
       "      <td>1.412040</td>\n",
       "      <td>1.298818</td>\n",
       "      <td>0.399592</td>\n",
       "      <td>-0.881639</td>\n",
       "      <td>0.531197</td>\n",
       "      <td>0.259413</td>\n",
       "      <td>0.690078</td>\n",
       "      <td>-0.481079</td>\n",
       "      <td>1.150585</td>\n",
       "      <td>1.531402</td>\n",
       "      <td>0.553111</td>\n",
       "      <td>1.139897</td>\n",
       "      <td>-0.548858</td>\n",
       "      <td>-0.382322</td>\n",
       "      <td>-0.695585</td>\n",
       "      <td>-0.379860</td>\n",
       "      <td>0.395797</td>\n",
       "      <td>0</td>\n",
       "    </tr>\n",
       "  </tbody>\n",
       "</table>\n",
       "</div>"
      ],
      "text/plain": [
       "   pc1_politics  pc1_misinfo   pc1_fol  pc1_harmful_language  \\\n",
       "0     -0.981819    -0.879590  0.940848              0.970918   \n",
       "1      1.207348     2.097758  0.475403              0.498986   \n",
       "2     -1.122536    -1.226120  1.130497              0.726641   \n",
       "3     -0.978910    -0.879824 -2.256152              0.916173   \n",
       "4      1.412040     1.298818  0.399592             -0.881639   \n",
       "\n",
       "   pc2_harmful_language  pc3_harmful_language  pc1_valence  tweets_in_2wk  \\\n",
       "0              0.707154             -0.018457    -0.707111      -0.098523   \n",
       "1              1.753992              1.085275    -1.258306      -0.487135   \n",
       "2              0.484802             -0.172794    -0.546221      -0.282231   \n",
       "3             -0.096462             -0.837125    -1.592888      -0.748565   \n",
       "4              0.531197              0.259413     0.690078      -0.481079   \n",
       "\n",
       "   botsentinel_score  extremity  moral_outrage  liwc_political  \\\n",
       "0          -0.860011   0.092133      -0.113144        0.347553   \n",
       "1           0.954429   0.846622      -0.708878        1.828892   \n",
       "2          -0.761933   0.562890       0.461963        0.244204   \n",
       "3          -0.418661   0.082398       0.045181       -0.031394   \n",
       "4           1.150585   1.531402       0.553111        1.139897   \n",
       "\n",
       "   log_freq_pr_1h  log_repeated_tweet_count  barbera_std  politics_sites1_std  \\\n",
       "0        0.997574                  0.150325     0.969663             0.070983   \n",
       "1        0.824833                  0.419413    -1.649843             5.438824   \n",
       "2       -1.562835                 -1.768231    -0.646145            -0.450304   \n",
       "3        0.956574                  0.267479    -1.303051            -0.126261   \n",
       "4       -0.548858                 -0.382322    -0.695585            -0.379860   \n",
       "\n",
       "   politics_sites2_ideo_std  suspended  \n",
       "0                  0.011400          0  \n",
       "1                  1.135080          0  \n",
       "2                  0.087886          0  \n",
       "3                  0.242857          0  \n",
       "4                  0.395797          0  "
      ]
     },
     "execution_count": 48,
     "metadata": {},
     "output_type": "execute_result"
    }
   ],
   "source": [
    "df_normalized = pd.DataFrame(normalized_values, columns=independent_vars)\n",
    "df_normalized['suspended'] = df_filled['suspended']\n",
    "df_normalized.head()"
   ]
  },
  {
   "cell_type": "markdown",
   "id": "23355ab0-682c-4a44-a4dd-7fb740487b3c",
   "metadata": {},
   "source": [
    "* Now, we will create and fit the probit model.\n",
    "* We can also view the summary before running the correction tests."
   ]
  },
  {
   "cell_type": "code",
   "execution_count": 49,
   "id": "b4198122-f55f-4101-baec-f0584e73072b",
   "metadata": {},
   "outputs": [
    {
     "name": "stdout",
     "output_type": "stream",
     "text": [
      "Optimization terminated successfully.\n",
      "         Current function value: 0.302637\n",
      "         Iterations 7\n",
      "                             Results: Probit\n",
      "=========================================================================\n",
      "Model:                 Probit             Method:             MLE        \n",
      "Dependent Variable:    suspended          Pseudo R-squared:   0.176      \n",
      "Date:                  2024-12-08 17:45   AIC:                5483.4609  \n",
      "No. Observations:      9000               BIC:                5611.3505  \n",
      "Df Model:              17                 Log-Likelihood:     -2723.7    \n",
      "Df Residuals:          8982               LL-Null:            -3306.3    \n",
      "Converged:             1.0000             LLR p-value:        3.8770e-237\n",
      "No. Iterations:        7.0000             Scale:              1.0000     \n",
      "-------------------------------------------------------------------------\n",
      "                          Coef.  Std.Err.    z     P>|z|   [0.025  0.975]\n",
      "-------------------------------------------------------------------------\n",
      "Intercept                -1.4273   0.0234 -61.0862 0.0000 -1.4731 -1.3815\n",
      "pc1_politics              0.1341   0.0529   2.5352 0.0112  0.0304  0.2378\n",
      "pc1_misinfo               0.2448   0.0465   5.2652 0.0000  0.1537  0.3360\n",
      "pc1_fol                   0.0013   0.0208   0.0643 0.9487 -0.0395  0.0422\n",
      "pc1_harmful_language      0.1761   0.0261   6.7504 0.0000  0.1250  0.2273\n",
      "pc2_harmful_language     -0.0830   0.0257  -3.2263 0.0013 -0.1334 -0.0326\n",
      "pc3_harmful_language     -0.0662   0.0206  -3.2163 0.0013 -0.1066 -0.0259\n",
      "pc1_valence               0.0410   0.0225   1.8194 0.0688 -0.0032  0.0851\n",
      "tweets_in_2wk             0.3316   0.0208  15.9339 0.0000  0.2908  0.3724\n",
      "botsentinel_score         0.1825   0.0386   4.7244 0.0000  0.1068  0.2582\n",
      "extremity                -0.1199   0.0226  -5.2949 0.0000 -0.1643 -0.0755\n",
      "moral_outrage             0.0170   0.0339   0.5010 0.6164 -0.0495  0.0834\n",
      "liwc_political           -0.0226   0.0286  -0.7901 0.4295 -0.0787  0.0335\n",
      "log_freq_pr_1h            0.1222   0.0228   5.3506 0.0000  0.0774  0.1670\n",
      "log_repeated_tweet_count -0.0074   0.0228  -0.3257 0.7447 -0.0522  0.0373\n",
      "barbera_std              -0.0303   0.0238  -1.2760 0.2020 -0.0770  0.0163\n",
      "politics_sites1_std      -0.0259   0.0212  -1.2236 0.2211 -0.0674  0.0156\n",
      "politics_sites2_ideo_std  0.0612   0.0222   2.7520 0.0059  0.0176  0.1048\n",
      "=========================================================================\n",
      "\n"
     ]
    }
   ],
   "source": [
    "independent_variables = ' + '.join(df_normalized.columns[:-1])\n",
    "\n",
    "probit_model = probit(\"suspended ~ \" + independent_variables, data=df_normalized).fit()\n",
    "print(probit_model.summary2())"
   ]
  },
  {
   "cell_type": "markdown",
   "id": "97a60863-1454-41f9-b39e-d3e418ca718c",
   "metadata": {},
   "source": [
    "* The pseudo R-squared is **0.176**, which is fairly decent considering that a good pseudo R-squared typically ranges from **0.2 to 0.4**.  \n",
    "* Before proceeding to interpret the model's results, we will perform correction tests (**Bonferroni** and **Holm-Bonferroni**) to minimize the likelihood of false positives (Type I errors).  \n",
    "* We will import them from the multipletests library."
   ]
  },
  {
   "cell_type": "code",
   "execution_count": 50,
   "id": "3582292a-2067-4777-b01b-988d881c6793",
   "metadata": {},
   "outputs": [],
   "source": [
    "from statsmodels.stats.multitest import multipletests"
   ]
  },
  {
   "cell_type": "code",
   "execution_count": 51,
   "id": "f93fa9f6-7903-44bc-9c9e-0d0827ac82d9",
   "metadata": {},
   "outputs": [],
   "source": [
    "p_values_probit = probit_model.pvalues\n",
    "\n",
    "# Bonferroni correction\n",
    "_, bonferroni_p_values, _, _ = multipletests(p_values_probit, method='bonferroni')\n",
    "\n",
    "# Holm-Bonferroni correction\n",
    "_, holm_p_values, _, _ = multipletests(p_values_probit, method='holm')"
   ]
  },
  {
   "cell_type": "markdown",
   "id": "8d0ce30f-ab3a-4f97-bbff-acec1976d6b5",
   "metadata": {},
   "source": [
    "* Now we will see the corrected p-values for the probit model."
   ]
  },
  {
   "cell_type": "code",
   "execution_count": 52,
   "id": "e8174949-fd1c-4316-ad34-caf20c9b749e",
   "metadata": {},
   "outputs": [
    {
     "name": "stdout",
     "output_type": "stream",
     "text": [
      "Bonferroni corrected p-values\n",
      "[0.00000000e+00 2.02314020e-01 2.52111131e-06 1.00000000e+00\n",
      " 2.65391121e-10 2.25744389e-02 2.33722260e-02 1.00000000e+00\n",
      " 6.63774580e-56 4.15407411e-05 2.14331004e-06 1.00000000e+00\n",
      " 1.00000000e+00 1.57760469e-06 1.00000000e+00 1.00000000e+00\n",
      " 1.00000000e+00 1.06609618e-01]\n",
      "\n",
      "Holm-Bonferroni corrected p-values\n",
      "[0.00000000e+00 8.99173424e-02 1.82080262e-06 1.00000000e+00\n",
      " 2.35903219e-10 1.37954905e-02 1.37954905e-02 4.81948692e-01\n",
      " 6.26898215e-56 2.76938274e-05 1.66701892e-06 1.00000000e+00\n",
      " 1.00000000e+00 1.31467058e-06 1.00000000e+00 1.00000000e+00\n",
      " 1.00000000e+00 5.33048091e-02]\n"
     ]
    }
   ],
   "source": [
    "print(\"Bonferroni corrected p-values\")\n",
    "print(bonferroni_p_values)\n",
    "\n",
    "print(\"\\nHolm-Bonferroni corrected p-values\")\n",
    "print(holm_p_values)"
   ]
  },
  {
   "cell_type": "markdown",
   "id": "4adc838f-bdd4-4b8a-830d-702c984df745",
   "metadata": {},
   "source": [
    "* Instead of trying to match each one individually with the model's summary, we will keep only the statistically significant ones.  \n",
    "* For the significance level, we will use a = 0.05."
   ]
  },
  {
   "cell_type": "code",
   "execution_count": 53,
   "id": "100dc0ee-5217-468b-866c-a1e4f380b95a",
   "metadata": {},
   "outputs": [
    {
     "name": "stdout",
     "output_type": "stream",
     "text": [
      "Bonferroni statistically significant variables:\n",
      "Intercept               0.000000e+00\n",
      "pc1_misinfo             1.400617e-07\n",
      "pc1_harmful_language    1.474395e-11\n",
      "pc2_harmful_language    1.254135e-03\n",
      "pc3_harmful_language    1.298457e-03\n",
      "tweets_in_2wk           3.687637e-57\n",
      "botsentinel_score       2.307819e-06\n",
      "extremity               1.190728e-07\n",
      "log_freq_pr_1h          8.764471e-08\n",
      "dtype: float64\n",
      "\n",
      "Holm-Bonferroni statistically significant variables:\n",
      "Intercept               0.000000e+00\n",
      "pc1_misinfo             1.400617e-07\n",
      "pc1_harmful_language    1.474395e-11\n",
      "pc2_harmful_language    1.254135e-03\n",
      "pc3_harmful_language    1.298457e-03\n",
      "tweets_in_2wk           3.687637e-57\n",
      "botsentinel_score       2.307819e-06\n",
      "extremity               1.190728e-07\n",
      "log_freq_pr_1h          8.764471e-08\n",
      "dtype: float64\n"
     ]
    }
   ],
   "source": [
    "significant_bonferroni = bonferroni_p_values < 0.05\n",
    "significant_holm = holm_p_values < 0.05\n",
    "\n",
    "print(\"Bonferroni statistically significant variables:\")\n",
    "print(p_values_probit[significant_bonferroni])\n",
    "\n",
    "print(\"\\nHolm-Bonferroni statistically significant variables:\")\n",
    "print(p_values_probit[significant_holm])"
   ]
  },
  {
   "cell_type": "markdown",
   "id": "871ab3cb-1cc5-49da-adcf-0684bc2ebd4b",
   "metadata": {},
   "source": [
    "* Both correction methods have the same variables."
   ]
  },
  {
   "cell_type": "markdown",
   "id": "29be96ab-e119-4096-a85b-6d51c1e19619",
   "metadata": {},
   "source": [
    "* Before interpreting the probit model, it is important to highlight that the coefficients do not directly represent changes in probability.  \n",
    "* Instead, we derive **marginal effects** to interpret these changes more accurately.  \n",
    "* Marginal effects show how a one-unit change in an independent variable affects the **probability** of the dependent variable, while holding all other variables constant.  \n",
    "\n",
    "* Our interpretation will focus only on the marginal effects of the variables that remain statistically significant after Bonferroni and Holm-Bonferroni corrections.\n",
    "* According to the tests, these variables are: `pc1_misinfo`, `pc1_harmful_language`, `pc2_harmful_language`, `pc3_harmful_language`, `tweets_in_2wk`, `botsentinel_score`, `extremity`, and `log_freq_pr_1h`.\n"
   ]
  },
  {
   "cell_type": "code",
   "execution_count": 54,
   "id": "4e18c001-f504-4f64-9267-0fa0db507e37",
   "metadata": {},
   "outputs": [
    {
     "data": {
      "text/html": [
       "<table class=\"simpletable\">\n",
       "<caption>Probit Marginal Effects</caption>\n",
       "<tr>\n",
       "  <th>Dep. Variable:</th> <td>suspended</td>\n",
       "</tr>\n",
       "<tr>\n",
       "  <th>Method:</th>          <td>dydx</td>   \n",
       "</tr>\n",
       "<tr>\n",
       "  <th>At:</th>             <td>overall</td> \n",
       "</tr>\n",
       "</table>\n",
       "<table class=\"simpletable\">\n",
       "<tr>\n",
       "              <th></th>                <th>dy/dx</th>    <th>std err</th>      <th>z</th>      <th>P>|z|</th>  <th>[0.025</th>    <th>0.975]</th>  \n",
       "</tr>\n",
       "<tr>\n",
       "  <th>pc1_politics</th>             <td>    0.0223</td> <td>    0.009</td> <td>    2.536</td> <td> 0.011</td> <td>    0.005</td> <td>    0.039</td>\n",
       "</tr>\n",
       "<tr>\n",
       "  <th>pc1_misinfo</th>              <td>    0.0406</td> <td>    0.008</td> <td>    5.272</td> <td> 0.000</td> <td>    0.026</td> <td>    0.056</td>\n",
       "</tr>\n",
       "<tr>\n",
       "  <th>pc1_fol</th>                  <td>    0.0002</td> <td>    0.003</td> <td>    0.064</td> <td> 0.949</td> <td>   -0.007</td> <td>    0.007</td>\n",
       "</tr>\n",
       "<tr>\n",
       "  <th>pc1_harmful_language</th>     <td>    0.0292</td> <td>    0.004</td> <td>    6.783</td> <td> 0.000</td> <td>    0.021</td> <td>    0.038</td>\n",
       "</tr>\n",
       "<tr>\n",
       "  <th>pc2_harmful_language</th>     <td>   -0.0138</td> <td>    0.004</td> <td>   -3.230</td> <td> 0.001</td> <td>   -0.022</td> <td>   -0.005</td>\n",
       "</tr>\n",
       "<tr>\n",
       "  <th>pc3_harmful_language</th>     <td>   -0.0110</td> <td>    0.003</td> <td>   -3.220</td> <td> 0.001</td> <td>   -0.018</td> <td>   -0.004</td>\n",
       "</tr>\n",
       "<tr>\n",
       "  <th>pc1_valence</th>              <td>    0.0068</td> <td>    0.004</td> <td>    1.820</td> <td> 0.069</td> <td>   -0.001</td> <td>    0.014</td>\n",
       "</tr>\n",
       "<tr>\n",
       "  <th>tweets_in_2wk</th>            <td>    0.0551</td> <td>    0.003</td> <td>   16.264</td> <td> 0.000</td> <td>    0.048</td> <td>    0.062</td>\n",
       "</tr>\n",
       "<tr>\n",
       "  <th>botsentinel_score</th>        <td>    0.0303</td> <td>    0.006</td> <td>    4.729</td> <td> 0.000</td> <td>    0.018</td> <td>    0.043</td>\n",
       "</tr>\n",
       "<tr>\n",
       "  <th>extremity</th>                <td>   -0.0199</td> <td>    0.004</td> <td>   -5.296</td> <td> 0.000</td> <td>   -0.027</td> <td>   -0.013</td>\n",
       "</tr>\n",
       "<tr>\n",
       "  <th>moral_outrage</th>            <td>    0.0028</td> <td>    0.006</td> <td>    0.501</td> <td> 0.616</td> <td>   -0.008</td> <td>    0.014</td>\n",
       "</tr>\n",
       "<tr>\n",
       "  <th>liwc_political</th>           <td>   -0.0038</td> <td>    0.005</td> <td>   -0.790</td> <td> 0.430</td> <td>   -0.013</td> <td>    0.006</td>\n",
       "</tr>\n",
       "<tr>\n",
       "  <th>log_freq_pr_1h</th>           <td>    0.0203</td> <td>    0.004</td> <td>    5.366</td> <td> 0.000</td> <td>    0.013</td> <td>    0.028</td>\n",
       "</tr>\n",
       "<tr>\n",
       "  <th>log_repeated_tweet_count</th> <td>   -0.0012</td> <td>    0.004</td> <td>   -0.326</td> <td> 0.745</td> <td>   -0.009</td> <td>    0.006</td>\n",
       "</tr>\n",
       "<tr>\n",
       "  <th>barbera_std</th>              <td>   -0.0050</td> <td>    0.004</td> <td>   -1.276</td> <td> 0.202</td> <td>   -0.013</td> <td>    0.003</td>\n",
       "</tr>\n",
       "<tr>\n",
       "  <th>politics_sites1_std</th>      <td>   -0.0043</td> <td>    0.004</td> <td>   -1.224</td> <td> 0.221</td> <td>   -0.011</td> <td>    0.003</td>\n",
       "</tr>\n",
       "<tr>\n",
       "  <th>politics_sites2_ideo_std</th> <td>    0.0102</td> <td>    0.004</td> <td>    2.754</td> <td> 0.006</td> <td>    0.003</td> <td>    0.017</td>\n",
       "</tr>\n",
       "</table>"
      ],
      "text/latex": [
       "\\begin{center}\n",
       "\\begin{tabular}{lc}\n",
       "\\toprule\n",
       "\\textbf{Dep. Variable:}              &   suspended     \\\\\n",
       "\\textbf{Method:}                     &      dydx       \\\\\n",
       "\\textbf{At:}                         &    overall      \\\\\n",
       "\\bottomrule\n",
       "\\end{tabular}\n",
       "\\begin{tabular}{ccccccc}\n",
       "             \\textbf{}               & \\textbf{dy/dx} & \\textbf{std err} & \\textbf{z} & \\textbf{P$> |$z$|$} & \\textbf{[0.025} & \\textbf{0.975]}  \\\\\n",
       "\\midrule\n",
       "\\bottomrule\n",
       "\\end{tabular}\n",
       "\\begin{tabular}{lcccccc}\n",
       "\\textbf{pc1\\_politics}               &       0.0223   &        0.009     &     2.536  &         0.011        &        0.005    &        0.039     \\\\\n",
       "\\textbf{pc1\\_misinfo}                &       0.0406   &        0.008     &     5.272  &         0.000        &        0.026    &        0.056     \\\\\n",
       "\\textbf{pc1\\_fol}                    &       0.0002   &        0.003     &     0.064  &         0.949        &       -0.007    &        0.007     \\\\\n",
       "\\textbf{pc1\\_harmful\\_language}      &       0.0292   &        0.004     &     6.783  &         0.000        &        0.021    &        0.038     \\\\\n",
       "\\textbf{pc2\\_harmful\\_language}      &      -0.0138   &        0.004     &    -3.230  &         0.001        &       -0.022    &       -0.005     \\\\\n",
       "\\textbf{pc3\\_harmful\\_language}      &      -0.0110   &        0.003     &    -3.220  &         0.001        &       -0.018    &       -0.004     \\\\\n",
       "\\textbf{pc1\\_valence}                &       0.0068   &        0.004     &     1.820  &         0.069        &       -0.001    &        0.014     \\\\\n",
       "\\textbf{tweets\\_in\\_2wk}             &       0.0551   &        0.003     &    16.264  &         0.000        &        0.048    &        0.062     \\\\\n",
       "\\textbf{botsentinel\\_score}          &       0.0303   &        0.006     &     4.729  &         0.000        &        0.018    &        0.043     \\\\\n",
       "\\textbf{extremity}                   &      -0.0199   &        0.004     &    -5.296  &         0.000        &       -0.027    &       -0.013     \\\\\n",
       "\\textbf{moral\\_outrage}              &       0.0028   &        0.006     &     0.501  &         0.616        &       -0.008    &        0.014     \\\\\n",
       "\\textbf{liwc\\_political}             &      -0.0038   &        0.005     &    -0.790  &         0.430        &       -0.013    &        0.006     \\\\\n",
       "\\textbf{log\\_freq\\_pr\\_1h}           &       0.0203   &        0.004     &     5.366  &         0.000        &        0.013    &        0.028     \\\\\n",
       "\\textbf{log\\_repeated\\_tweet\\_count} &      -0.0012   &        0.004     &    -0.326  &         0.745        &       -0.009    &        0.006     \\\\\n",
       "\\textbf{barbera\\_std}                &      -0.0050   &        0.004     &    -1.276  &         0.202        &       -0.013    &        0.003     \\\\\n",
       "\\textbf{politics\\_sites1\\_std}       &      -0.0043   &        0.004     &    -1.224  &         0.221        &       -0.011    &        0.003     \\\\\n",
       "\\textbf{politics\\_sites2\\_ideo\\_std} &       0.0102   &        0.004     &     2.754  &         0.006        &        0.003    &        0.017     \\\\\n",
       "\\bottomrule\n",
       "\\end{tabular}\n",
       "%\\caption{Probit Marginal Effects}\n",
       "\\end{center}"
      ],
      "text/plain": [
       "<class 'statsmodels.iolib.summary.Summary'>\n",
       "\"\"\"\n",
       "       Probit Marginal Effects       \n",
       "=====================================\n",
       "Dep. Variable:              suspended\n",
       "Method:                          dydx\n",
       "At:                           overall\n",
       "============================================================================================\n",
       "                              dy/dx    std err          z      P>|z|      [0.025      0.975]\n",
       "--------------------------------------------------------------------------------------------\n",
       "pc1_politics                 0.0223      0.009      2.536      0.011       0.005       0.039\n",
       "pc1_misinfo                  0.0406      0.008      5.272      0.000       0.026       0.056\n",
       "pc1_fol                      0.0002      0.003      0.064      0.949      -0.007       0.007\n",
       "pc1_harmful_language         0.0292      0.004      6.783      0.000       0.021       0.038\n",
       "pc2_harmful_language        -0.0138      0.004     -3.230      0.001      -0.022      -0.005\n",
       "pc3_harmful_language        -0.0110      0.003     -3.220      0.001      -0.018      -0.004\n",
       "pc1_valence                  0.0068      0.004      1.820      0.069      -0.001       0.014\n",
       "tweets_in_2wk                0.0551      0.003     16.264      0.000       0.048       0.062\n",
       "botsentinel_score            0.0303      0.006      4.729      0.000       0.018       0.043\n",
       "extremity                   -0.0199      0.004     -5.296      0.000      -0.027      -0.013\n",
       "moral_outrage                0.0028      0.006      0.501      0.616      -0.008       0.014\n",
       "liwc_political              -0.0038      0.005     -0.790      0.430      -0.013       0.006\n",
       "log_freq_pr_1h               0.0203      0.004      5.366      0.000       0.013       0.028\n",
       "log_repeated_tweet_count    -0.0012      0.004     -0.326      0.745      -0.009       0.006\n",
       "barbera_std                 -0.0050      0.004     -1.276      0.202      -0.013       0.003\n",
       "politics_sites1_std         -0.0043      0.004     -1.224      0.221      -0.011       0.003\n",
       "politics_sites2_ideo_std     0.0102      0.004      2.754      0.006       0.003       0.017\n",
       "============================================================================================\n",
       "\"\"\""
      ]
     },
     "execution_count": 54,
     "metadata": {},
     "output_type": "execute_result"
    }
   ],
   "source": [
    "marginal_effects = probit_model.get_margeff()\n",
    "marginal_effects.summary()"
   ]
  },
  {
   "cell_type": "markdown",
   "id": "0b74411c-f4d2-4d5b-ae7f-4f40ed0f41bf",
   "metadata": {},
   "source": [
    "* According to both test corrections, for the statistical significant variables we have the following interpration:\n",
    "* Holding all other variables constant:\n",
    "    * One unit increase in `PCA misinformation` **(Spreading misinformation)** brings an approximate **2.4% increase** in the probability of getting suspended.\n",
    "    * One unit increase in `PCA1 harmful_language` **(General toxicity)** brings an approximate **2.7% increase** in the probability of getting suspended.\n",
    "    * One unit increase in `PCA2 harmful_language` **(Hate and abuse language, possibly toward groups)** brings an approximate **1.3% decrease** in the probability of getting suspended.\n",
    "    * One unit increase in `PCA3 harmful_language` **(Severe and personalized attacks and threats)** brings an approximate **1% decrease** in the probability of getting suspended.\n",
    "    * One unit increase in `tweets_in_2wk` **(Number of tweets in 2 weeks)** brings an approximate **5.5% increase** in the probability of getting suspended.\n",
    "    * One unit increase in `botsentinel_score` **(Being/using a bot)** brings an approximate **3.1% increase** in the probability of getting suspended.\n",
    "    * One unit increase in `extremity` **(Either side extreme political beliefs)** brings an approximate **2.2% decrease** in the probability of getting suspended.\n",
    "    * One unit increase in `log_freq_pr_1h` **(Frequency per hour)** brings an approximate **1.9% increase** in the probability of getting suspended."
   ]
  },
  {
   "cell_type": "markdown",
   "id": "221ba1e8-25df-4948-8179-34f3a4c0f5f6",
   "metadata": {},
   "source": [
    "* As we can see, **political orientation** is not statistically significant when examined alongside multiple other variables after the correction tests.  \n",
    "* This indicates that **political orientation** is **not** a primary factor leading to suspension.  \n",
    "* Interestingly, even having **extreme political beliefs** appears to slightly **decrease** the likelihood of suspension, although this effect applies to both political sides.  \n",
    "* According to our probit model, the most important factors contributing to suspension are: **Spreading misinformation**, **General toxic behavior**, **Frequent posting**, **Being or using a bot**"
   ]
  },
  {
   "cell_type": "markdown",
   "id": "63bc2959-5878-4c86-ab18-99c5cd7c30cf",
   "metadata": {},
   "source": [
    "* Now we will do the same analysis for logit regression."
   ]
  },
  {
   "cell_type": "code",
   "execution_count": 55,
   "id": "41d208e3-ba74-4465-aa0a-475a91ddea22",
   "metadata": {},
   "outputs": [
    {
     "name": "stdout",
     "output_type": "stream",
     "text": [
      "Optimization terminated successfully.\n",
      "         Current function value: 0.303039\n",
      "         Iterations 7\n",
      "                             Results: Logit\n",
      "=========================================================================\n",
      "Model:                 Logit              Method:             MLE        \n",
      "Dependent Variable:    suspended          Pseudo R-squared:   0.175      \n",
      "Date:                  2024-12-08 17:45   AIC:                5490.6981  \n",
      "No. Observations:      9000               BIC:                5618.5878  \n",
      "Df Model:              17                 Log-Likelihood:     -2727.3    \n",
      "Df Residuals:          8982               LL-Null:            -3306.3    \n",
      "Converged:             1.0000             LLR p-value:        1.3797e-235\n",
      "No. Iterations:        7.0000             Scale:              1.0000     \n",
      "-------------------------------------------------------------------------\n",
      "                          Coef.  Std.Err.    z     P>|z|   [0.025  0.975]\n",
      "-------------------------------------------------------------------------\n",
      "Intercept                -2.5393   0.0490 -51.7996 0.0000 -2.6354 -2.4433\n",
      "pc1_politics              0.2690   0.1004   2.6797 0.0074  0.0722  0.4658\n",
      "pc1_misinfo               0.4692   0.0865   5.4242 0.0000  0.2997  0.6388\n",
      "pc1_fol                   0.0019   0.0387   0.0499 0.9602 -0.0740  0.0778\n",
      "pc1_harmful_language      0.3050   0.0477   6.3931 0.0000  0.2115  0.3986\n",
      "pc2_harmful_language     -0.1467   0.0466  -3.1473 0.0016 -0.2381 -0.0554\n",
      "pc3_harmful_language     -0.1162   0.0368  -3.1617 0.0016 -0.1883 -0.0442\n",
      "pc1_valence               0.0700   0.0412   1.6998 0.0892 -0.0107  0.1507\n",
      "tweets_in_2wk             0.6133   0.0379  16.2032 0.0000  0.5391  0.6875\n",
      "botsentinel_score         0.3502   0.0708   4.9493 0.0000  0.2115  0.4888\n",
      "extremity                -0.2457   0.0420  -5.8503 0.0000 -0.3280 -0.1634\n",
      "moral_outrage             0.0437   0.0626   0.6970 0.4858 -0.0791  0.1664\n",
      "liwc_political           -0.0594   0.0529  -1.1234 0.2613 -0.1630  0.0442\n",
      "log_freq_pr_1h            0.2122   0.0423   5.0195 0.0000  0.1294  0.2951\n",
      "log_repeated_tweet_count -0.0178   0.0423  -0.4215 0.6734 -0.1007  0.0650\n",
      "barbera_std              -0.0591   0.0431  -1.3710 0.1704 -0.1437  0.0254\n",
      "politics_sites1_std      -0.0508   0.0394  -1.2916 0.1965 -0.1280  0.0263\n",
      "politics_sites2_ideo_std  0.1064   0.0409   2.6020 0.0093  0.0263  0.1865\n",
      "=========================================================================\n",
      "\n"
     ]
    }
   ],
   "source": [
    "from statsmodels.formula.api import logit\n",
    "\n",
    "logit_model = logit(\"suspended ~ \" + independent_variables, data=df_normalized).fit()\n",
    "print(logit_model.summary2())"
   ]
  },
  {
   "cell_type": "markdown",
   "id": "cbca6066-a108-4805-8750-8b82fd890bd5",
   "metadata": {},
   "source": [
    "* The pseudo R-squared is **0.175**, almost the same as in the probit model.  \n",
    "* Once again, it is fairly decent, considering that a good pseudo R-squared typically ranges from **0.2 to 0.4**.  \n",
    "* We will perform correction tests (**Bonferroni** and **Holm-Bonferroni**) to minimize the likelihood of false positives (Type I errors)."
   ]
  },
  {
   "cell_type": "code",
   "execution_count": 56,
   "id": "81363e1f-b213-4712-baf1-af7fe733baa9",
   "metadata": {},
   "outputs": [],
   "source": [
    "p_values_logit = logit_model.pvalues\n",
    "\n",
    "# Bonferroni correction\n",
    "_, bonferroni_p_values_logit, _, _ = multipletests(p_values_logit, method='bonferroni')\n",
    "\n",
    "# Holm-Bonferroni correction\n",
    "_, holm_p_values_logit, _, _ = multipletests(p_values_logit, method='holm')"
   ]
  },
  {
   "cell_type": "code",
   "execution_count": 57,
   "id": "27e4dd8a-9b88-417e-816a-0709daed2e72",
   "metadata": {},
   "outputs": [
    {
     "name": "stdout",
     "output_type": "stream",
     "text": [
      "Bonferroni corrected p-values\n",
      "[0.00000000e+00 1.32650938e-01 1.04757710e-06 1.00000000e+00\n",
      " 2.92599319e-09 2.96635039e-02 2.82303469e-02 1.00000000e+00\n",
      " 8.62032583e-58 1.34034265e-05 8.83434235e-08 1.00000000e+00\n",
      " 1.00000000e+00 9.32285363e-06 1.00000000e+00 1.00000000e+00\n",
      " 1.00000000e+00 1.66805273e-01]\n",
      "\n",
      "Holm-Bonferroni corrected p-values\n",
      "[0.00000000e+00 6.63254688e-02 8.14782191e-07 1.00000000e+00\n",
      " 2.60088283e-09 1.72518787e-02 1.72518787e-02 6.24160917e-01\n",
      " 8.14141884e-58 8.93561766e-06 7.36195196e-08 1.00000000e+00\n",
      " 1.00000000e+00 6.73317207e-06 1.00000000e+00 1.00000000e+00\n",
      " 1.00000000e+00 7.41356771e-02]\n"
     ]
    }
   ],
   "source": [
    "print(\"Bonferroni corrected p-values\")\n",
    "print(bonferroni_p_values_logit)\n",
    "\n",
    "print(\"\\nHolm-Bonferroni corrected p-values\")\n",
    "print(holm_p_values_logit)"
   ]
  },
  {
   "cell_type": "markdown",
   "id": "7f62eb61-831d-42ca-82c3-26d96b7c7cee",
   "metadata": {},
   "source": [
    "* We will keep only the statistically significant variables."
   ]
  },
  {
   "cell_type": "code",
   "execution_count": 58,
   "id": "6432b478-6947-44a9-b7ee-c523b111bd2b",
   "metadata": {},
   "outputs": [
    {
     "name": "stdout",
     "output_type": "stream",
     "text": [
      "Bonferroni statistically significant variables:\n",
      "Intercept               0.000000e+00\n",
      "pc1_misinfo             5.819873e-08\n",
      "pc1_harmful_language    1.625552e-10\n",
      "pc2_harmful_language    1.647972e-03\n",
      "pc3_harmful_language    1.568353e-03\n",
      "tweets_in_2wk           4.789070e-59\n",
      "botsentinel_score       7.446348e-07\n",
      "extremity               4.907968e-09\n",
      "log_freq_pr_1h          5.179363e-07\n",
      "dtype: float64\n",
      "\n",
      "Holm-Bonferroni statistically significant variables:\n",
      "Intercept               0.000000e+00\n",
      "pc1_misinfo             5.819873e-08\n",
      "pc1_harmful_language    1.625552e-10\n",
      "pc2_harmful_language    1.647972e-03\n",
      "pc3_harmful_language    1.568353e-03\n",
      "tweets_in_2wk           4.789070e-59\n",
      "botsentinel_score       7.446348e-07\n",
      "extremity               4.907968e-09\n",
      "log_freq_pr_1h          5.179363e-07\n",
      "dtype: float64\n"
     ]
    }
   ],
   "source": [
    "significant_bonferroni_logit = bonferroni_p_values_logit < 0.05\n",
    "significant_holm_logit = holm_p_values_logit < 0.05\n",
    "\n",
    "print(\"Bonferroni statistically significant variables:\")\n",
    "print(p_values_logit[significant_bonferroni_logit])\n",
    "\n",
    "print(\"\\nHolm-Bonferroni statistically significant variables:\")\n",
    "print(p_values_logit[significant_holm_logit])"
   ]
  },
  {
   "cell_type": "markdown",
   "id": "2d835881-4cb3-4a3a-89f2-c6837584be3e",
   "metadata": {},
   "source": [
    "* The statistically significant variables for the **logit regression** after applying **Bonferroni** and **Holm-Bonferroni** corrections are exactly the same as those identified in the probit model.  \n",
    "* According to the tests, these significant variables are: `pc1_misinfo`, `pc1_harmful_language`, `pc2_harmful_language`, `pc3_harmful_language`, `tweets_in_2wk`, `botsentinel_score`, `extremity`, and `log_freq_pr_1h`.  \n",
    "* Next, we will interpret the role and contribution of these variables in the **logit model** by using log odds and odds ratios."
   ]
  },
  {
   "cell_type": "code",
   "execution_count": 59,
   "id": "f288fb24-f788-4bbf-be7f-46e288039e4d",
   "metadata": {},
   "outputs": [
    {
     "name": "stdout",
     "output_type": "stream",
     "text": [
      "pc1_misinfo: 0.4692160025935247 1.6\n",
      "pc1_harmful_language: 0.3050376811455164 1.36\n",
      "pc2_harmful_language: -0.14674262168483024 0.86\n",
      "pc3_harmful_language: -0.11623643720146234 0.89\n",
      "tweets_in_2wk: 0.6133404331423916 1.85\n",
      "botsentinel_score: 0.35017090131039924 1.42\n",
      "extremity: -0.24571878749937137 0.78\n",
      "log_freq_pr_1h: 0.21224060320701083 1.24\n"
     ]
    }
   ],
   "source": [
    "print('pc1_misinfo:',logit_model.params['pc1_misinfo'], round(np.exp(logit_model.params['pc1_misinfo']), 2))\n",
    "print('pc1_harmful_language:', logit_model.params['pc1_harmful_language'], round(np.exp(logit_model.params['pc1_harmful_language']), 2))\n",
    "print('pc2_harmful_language:', logit_model.params['pc2_harmful_language'], round(np.exp(logit_model.params['pc2_harmful_language']), 2))\n",
    "print('pc3_harmful_language:', logit_model.params['pc3_harmful_language'], round(np.exp(logit_model.params['pc3_harmful_language']), 2))\n",
    "print('tweets_in_2wk:', logit_model.params['tweets_in_2wk'], round(np.exp(logit_model.params['tweets_in_2wk']), 2))\n",
    "print('botsentinel_score:', logit_model.params['botsentinel_score'], round(np.exp(logit_model.params['botsentinel_score']), 2))\n",
    "print('extremity:', logit_model.params['extremity'], round(np.exp(logit_model.params['extremity']), 2))\n",
    "print('log_freq_pr_1h:', logit_model.params['log_freq_pr_1h'], round(np.exp(logit_model.params['log_freq_pr_1h']), 2))"
   ]
  },
  {
   "cell_type": "markdown",
   "id": "9c6cd5fc-cc5e-4c23-9af7-54748dd49c30",
   "metadata": {},
   "source": [
    "* Holding all other variables constant:\n",
    "    * One unit increase in `PCA misinformation` **(Spreading misinformation)** brings an increase of 0.46 in the log odds of getting suspended.\n",
    "    \n",
    "    * Equivalently, the odds ratio **increases** by $e^{0.46} \\approx 1.6 $ or about **60%**.\n",
    "    \n",
    "    - One unit increase in `PCA1 harmful_language` **(General toxicity)** brings an increase of 0.3 in the log odds of getting suspended.\n",
    "    \n",
    "    - Equivalently, the odds ratio **increases** by $e^{0.3} \\approx 1.36 $ or about **36%**.\n",
    "    \n",
    "    * One unit increase in `PCA2 harmful_language` **(Hate and abuse language possibly toward groups)** brings a decrease of 0.14 in the log odds of getting suspended.\n",
    "    \n",
    "    * Equivalently, as $e^{-0.14} \\approx 0.86 $, the odds ratio of getting suspended **decreases** by about **14%**.\n",
    "    \n",
    "    - One unit increase in `PCA3 harmful_language` **(Severe and personalized attacks and threats)** brings a decrease of 0.11 in the log odds of getting suspended.\n",
    "    \n",
    "    - Equivalently, as $e^{-0.11} \\approx 0.89 $, the odds ratio of getting suspended **decreases** by about **11%**.\n",
    "    \n",
    "    * One unit increase in `tweets_in_2wk` **(Number of tweets in 2 weeks)** brings an increase of 0.61 in the log odds of getting suspended.\n",
    "    \n",
    "    * Equivalently, the odds ratio **increases** by $e^{0.61} \\approx 1.85 $ or about **85%**.\n",
    "    \n",
    "    - One unit increase in `botsentinel_score` **(Being/using a bot)** brings an increase of 0.35 in the log odds of getting suspended.\n",
    "    \n",
    "    - Equivalently, the odds ratio **increases** by $e^{0.35} \\approx 1.42 $ or about **42%**.\n",
    "    \n",
    "    * One unit increase in `extremity` **(Either side extreme political beliefs)** brings a decrease of 0.24 in the log odds of getting suspended.\n",
    "    \n",
    "    * Equivalently, as $e^{-0.24} \\approx 0.78 $, the odds ratio of getting suspended **decreases** by about **22%**.\n",
    "    \n",
    "    - One unit increase in `log_freq_pr_1h` **(Frequency per hour)** brings an increase of 0.21 in the log odds of getting suspended.\n",
    "    \n",
    "    - Equivalently, the odds ratio **increases** by $e^{0.21} \\approx 1.24 $ or about **24%**."
   ]
  },
  {
   "cell_type": "markdown",
   "id": "30340840-df04-4e3c-a9e3-aae83ad6853b",
   "metadata": {},
   "source": [
    "* Once again, **political orientation** is not statistically significant when examined alongside multiple other variables, confirming that it is **not** a primary factor leading to suspension.\n",
    "* Additionally, the model shows that having **extreme political beliefs** slightly decreases the likelihood of suspension, an effect observed across both ends of the political spectrum.\n",
    "* Similar to the probit model, the logit model identifies the following as the most important factors contributing to suspension: **Spreading misinformation**, **General toxic behavior**, **Frequent posting** and **Being or using a bot**."
   ]
  },
  {
   "cell_type": "code",
   "execution_count": null,
   "id": "b63fc065-ad3b-449c-ad02-f3c27644af0b",
   "metadata": {},
   "outputs": [],
   "source": []
  }
 ],
 "metadata": {
  "kernelspec": {
   "display_name": "Python 3 (ipykernel)",
   "language": "python",
   "name": "python3"
  },
  "language_info": {
   "codemirror_mode": {
    "name": "ipython",
    "version": 3
   },
   "file_extension": ".py",
   "mimetype": "text/x-python",
   "name": "python",
   "nbconvert_exporter": "python",
   "pygments_lexer": "ipython3",
   "version": "3.12.4"
  }
 },
 "nbformat": 4,
 "nbformat_minor": 5
}
